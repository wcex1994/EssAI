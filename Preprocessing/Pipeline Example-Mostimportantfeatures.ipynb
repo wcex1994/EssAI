{
 "cells": [
  {
   "cell_type": "markdown",
   "metadata": {},
   "source": [
    "# Pipeline Example"
   ]
  },
  {
   "cell_type": "code",
   "execution_count": 1,
   "metadata": {},
   "outputs": [
    {
     "name": "stderr",
     "output_type": "stream",
     "text": [
      "[nltk_data] Downloading package cmudict to\n",
      "[nltk_data]     /Users/haileywu/nltk_data...\n",
      "[nltk_data]   Package cmudict is already up-to-date!\n",
      "[nltk_data] Downloading package stopwords to\n",
      "[nltk_data]     /Users/haileywu/nltk_data...\n",
      "[nltk_data]   Package stopwords is already up-to-date!\n",
      "/Users/haileywu/opt/anaconda3/lib/python3.8/site-packages/numpy/lib/function_base.py:393: RuntimeWarning: Mean of empty slice.\n",
      "  avg = a.mean(axis)\n",
      "/Users/haileywu/opt/anaconda3/lib/python3.8/site-packages/numpy/core/_methods.py:161: RuntimeWarning: invalid value encountered in double_scalars\n",
      "  ret = ret.dtype.type(ret / rcount)\n"
     ]
    },
    {
     "data": {
      "text/html": [
       "<div>\n",
       "<style scoped>\n",
       "    .dataframe tbody tr th:only-of-type {\n",
       "        vertical-align: middle;\n",
       "    }\n",
       "\n",
       "    .dataframe tbody tr th {\n",
       "        vertical-align: top;\n",
       "    }\n",
       "\n",
       "    .dataframe thead th {\n",
       "        text-align: right;\n",
       "    }\n",
       "</style>\n",
       "<table border=\"1\" class=\"dataframe\">\n",
       "  <thead>\n",
       "    <tr style=\"text-align: right;\">\n",
       "      <th></th>\n",
       "      <th>Unnamed: 0</th>\n",
       "      <th>Text</th>\n",
       "      <th>probpercentage</th>\n",
       "      <th>words</th>\n",
       "      <th>avgWordLength</th>\n",
       "      <th>sentenceLengthByChar</th>\n",
       "      <th>specicalCharacterCount</th>\n",
       "      <th>avgSyllablesPerWord</th>\n",
       "      <th>countFunctionalWords</th>\n",
       "      <th>hapaxLegemenaTuple</th>\n",
       "      <th>...</th>\n",
       "      <th>yulesK</th>\n",
       "      <th>simpsonsIndex</th>\n",
       "      <th>wordCount</th>\n",
       "      <th>uniqueWordCount</th>\n",
       "      <th>shannonEntropy</th>\n",
       "      <th>sentenceCount</th>\n",
       "      <th>gunningFoxIndex</th>\n",
       "      <th>daleChallReadability</th>\n",
       "      <th>fleschReadingEase</th>\n",
       "      <th>fleschCincadeGradeLevel</th>\n",
       "    </tr>\n",
       "  </thead>\n",
       "  <tbody>\n",
       "    <tr>\n",
       "      <th>0</th>\n",
       "      <td>0</td>\n",
       "      <td>In het kader van kernfusie op aarde...</td>\n",
       "      <td>0.02586</td>\n",
       "      <td>[In, het, kader, van, kernfusie, op, aarde:, M...</td>\n",
       "      <td>6.269231</td>\n",
       "      <td>208</td>\n",
       "      <td>16</td>\n",
       "      <td>1.785714</td>\n",
       "      <td>0.071429</td>\n",
       "      <td>(333.22045101752036, 0.8571428571428571)</td>\n",
       "      <td>...</td>\n",
       "      <td>7193.877551</td>\n",
       "      <td>NaN</td>\n",
       "      <td>28</td>\n",
       "      <td>26</td>\n",
       "      <td>3.233183</td>\n",
       "      <td>2</td>\n",
       "      <td>11.314286</td>\n",
       "      <td>18.429114</td>\n",
       "      <td>41.553571</td>\n",
       "      <td>10.941429</td>\n",
       "    </tr>\n",
       "    <tr>\n",
       "      <th>1</th>\n",
       "      <td>1</td>\n",
       "      <td>Date: 7 Feb 1994 07:41:14 ORG  Original file d...</td>\n",
       "      <td>0.00127</td>\n",
       "      <td>[Date:, 7, Feb, 1994, 07:41:14, ORG, Original,...</td>\n",
       "      <td>4.833333</td>\n",
       "      <td>70</td>\n",
       "      <td>4</td>\n",
       "      <td>1.583333</td>\n",
       "      <td>0.000000</td>\n",
       "      <td>(248.49066497880003, 1.0)</td>\n",
       "      <td>...</td>\n",
       "      <td>9166.666667</td>\n",
       "      <td>NaN</td>\n",
       "      <td>12</td>\n",
       "      <td>12</td>\n",
       "      <td>2.484907</td>\n",
       "      <td>2</td>\n",
       "      <td>9.066667</td>\n",
       "      <td>17.092433</td>\n",
       "      <td>66.795000</td>\n",
       "      <td>5.433333</td>\n",
       "    </tr>\n",
       "    <tr>\n",
       "      <th>2</th>\n",
       "      <td>2</td>\n",
       "      <td>Seemed to be a transcript of a 'Seven Days' ar...</td>\n",
       "      <td>0.00127</td>\n",
       "      <td>[Seemed, to, be, a, transcript, of, a, 'Seven,...</td>\n",
       "      <td>7.000000</td>\n",
       "      <td>52</td>\n",
       "      <td>3</td>\n",
       "      <td>1.500000</td>\n",
       "      <td>0.500000</td>\n",
       "      <td>(230.25850929940458, 0.8)</td>\n",
       "      <td>...</td>\n",
       "      <td>5800.000000</td>\n",
       "      <td>NaN</td>\n",
       "      <td>10</td>\n",
       "      <td>9</td>\n",
       "      <td>2.163956</td>\n",
       "      <td>2</td>\n",
       "      <td>6.000000</td>\n",
       "      <td>11.779500</td>\n",
       "      <td>74.860000</td>\n",
       "      <td>4.060000</td>\n",
       "    </tr>\n",
       "    <tr>\n",
       "      <th>3</th>\n",
       "      <td>3</td>\n",
       "      <td>Poorly formatted and corrupted.</td>\n",
       "      <td>2.27424</td>\n",
       "      <td>[Poorly, formatted, and, corrupted.]</td>\n",
       "      <td>8.333333</td>\n",
       "      <td>31</td>\n",
       "      <td>1</td>\n",
       "      <td>2.250000</td>\n",
       "      <td>0.250000</td>\n",
       "      <td>(138.62943611198907, 1.0)</td>\n",
       "      <td>...</td>\n",
       "      <td>7500.000000</td>\n",
       "      <td>NaN</td>\n",
       "      <td>4</td>\n",
       "      <td>4</td>\n",
       "      <td>1.386294</td>\n",
       "      <td>2</td>\n",
       "      <td>20.800000</td>\n",
       "      <td>15.578200</td>\n",
       "      <td>14.455000</td>\n",
       "      <td>11.740000</td>\n",
       "    </tr>\n",
       "    <tr>\n",
       "      <th>4</th>\n",
       "      <td>4</td>\n",
       "      <td>I have added the text between 'examine under a...</td>\n",
       "      <td>0.00128</td>\n",
       "      <td>[I, have, added, the, text, between, 'examine,...</td>\n",
       "      <td>6.444444</td>\n",
       "      <td>105</td>\n",
       "      <td>7</td>\n",
       "      <td>1.500000</td>\n",
       "      <td>0.500000</td>\n",
       "      <td>(289.03717578961647, 1.0)</td>\n",
       "      <td>...</td>\n",
       "      <td>9444.444444</td>\n",
       "      <td>NaN</td>\n",
       "      <td>18</td>\n",
       "      <td>18</td>\n",
       "      <td>2.890372</td>\n",
       "      <td>2</td>\n",
       "      <td>8.044444</td>\n",
       "      <td>10.223456</td>\n",
       "      <td>70.800000</td>\n",
       "      <td>5.620000</td>\n",
       "    </tr>\n",
       "  </tbody>\n",
       "</table>\n",
       "<p>5 rows × 28 columns</p>\n",
       "</div>"
      ],
      "text/plain": [
       "   Unnamed: 0                                               Text  \\\n",
       "0           0             In het kader van kernfusie op aarde...   \n",
       "1           1  Date: 7 Feb 1994 07:41:14 ORG  Original file d...   \n",
       "2           2  Seemed to be a transcript of a 'Seven Days' ar...   \n",
       "3           3                    Poorly formatted and corrupted.   \n",
       "4           4  I have added the text between 'examine under a...   \n",
       "\n",
       "   probpercentage                                              words  \\\n",
       "0         0.02586  [In, het, kader, van, kernfusie, op, aarde:, M...   \n",
       "1         0.00127  [Date:, 7, Feb, 1994, 07:41:14, ORG, Original,...   \n",
       "2         0.00127  [Seemed, to, be, a, transcript, of, a, 'Seven,...   \n",
       "3         2.27424               [Poorly, formatted, and, corrupted.]   \n",
       "4         0.00128  [I, have, added, the, text, between, 'examine,...   \n",
       "\n",
       "   avgWordLength  sentenceLengthByChar  specicalCharacterCount  \\\n",
       "0       6.269231                   208                      16   \n",
       "1       4.833333                    70                       4   \n",
       "2       7.000000                    52                       3   \n",
       "3       8.333333                    31                       1   \n",
       "4       6.444444                   105                       7   \n",
       "\n",
       "   avgSyllablesPerWord  countFunctionalWords  \\\n",
       "0             1.785714              0.071429   \n",
       "1             1.583333              0.000000   \n",
       "2             1.500000              0.500000   \n",
       "3             2.250000              0.250000   \n",
       "4             1.500000              0.500000   \n",
       "\n",
       "                         hapaxLegemenaTuple  ...       yulesK  simpsonsIndex  \\\n",
       "0  (333.22045101752036, 0.8571428571428571)  ...  7193.877551            NaN   \n",
       "1                 (248.49066497880003, 1.0)  ...  9166.666667            NaN   \n",
       "2                 (230.25850929940458, 0.8)  ...  5800.000000            NaN   \n",
       "3                 (138.62943611198907, 1.0)  ...  7500.000000            NaN   \n",
       "4                 (289.03717578961647, 1.0)  ...  9444.444444            NaN   \n",
       "\n",
       "  wordCount  uniqueWordCount  shannonEntropy  sentenceCount  gunningFoxIndex  \\\n",
       "0        28               26        3.233183              2        11.314286   \n",
       "1        12               12        2.484907              2         9.066667   \n",
       "2        10                9        2.163956              2         6.000000   \n",
       "3         4                4        1.386294              2        20.800000   \n",
       "4        18               18        2.890372              2         8.044444   \n",
       "\n",
       "   daleChallReadability  fleschReadingEase  fleschCincadeGradeLevel  \n",
       "0             18.429114          41.553571                10.941429  \n",
       "1             17.092433          66.795000                 5.433333  \n",
       "2             11.779500          74.860000                 4.060000  \n",
       "3             15.578200          14.455000                11.740000  \n",
       "4             10.223456          70.800000                 5.620000  \n",
       "\n",
       "[5 rows x 28 columns]"
      ]
     },
     "execution_count": 1,
     "metadata": {},
     "output_type": "execute_result"
    }
   ],
   "source": [
    "#=================================================================\n",
    "# Use Case\n",
    "#================================================================= \n",
    "\n",
    "import pipeline.pipeline as p\n",
    "import pandas as pd\n",
    "\n",
    "data = pd.read_csv(\"Dataset_v3/blog/blog_2000_sent_Jane_rst.csv\")\n",
    "\n",
    "# Run data through pipeline to get metrics applicable for all datasets.\n",
    "data = p.standardPipeline(data)\n",
    "\n",
    "# For reading metrics, we require a sentence count column. Add the column\n",
    "# yourself, depending on your needs, and add it as a second parameter.\n",
    "\n",
    "data[\"sentenceCount\"] = 2 # My sophisticated count estimation method\n",
    "data = p.readabilityPipeline(data, \"sentenceCount\")\n",
    "\n",
    "# This function will drop columns that are artifacts of the creation of other\n",
    "# columns.\n",
    "\n",
    "#data = p.dropIntermediateCols(data)\n",
    "data.head()"
   ]
  },
  {
   "cell_type": "code",
   "execution_count": 10,
   "metadata": {},
   "outputs": [
    {
     "data": {
      "text/plain": [
       "count    34033.000000\n",
       "mean        13.094303\n",
       "std         32.905662\n",
       "min          0.000870\n",
       "25%          0.001280\n",
       "50%          0.001290\n",
       "75%          0.028440\n",
       "max         99.985977\n",
       "Name: probpercentage, dtype: float64"
      ]
     },
     "execution_count": 10,
     "metadata": {},
     "output_type": "execute_result"
    }
   ],
   "source": [
    "data.probpercentage.describe()"
   ]
  },
  {
   "cell_type": "code",
   "execution_count": 2,
   "metadata": {},
   "outputs": [],
   "source": [
    "del data['hapaxLegemenaTuple']\n",
    "del data['hapaxDisLegemenaTuple']"
   ]
  },
  {
   "cell_type": "code",
   "execution_count": 3,
   "metadata": {},
   "outputs": [],
   "source": [
    "from nltk.tokenize import word_tokenize, sent_tokenize\n",
    "import collections as coll\n",
    "\n",
    "def SimpsonsIndex(text):\n",
    "    words = RemoveSpecialCHs(text)\n",
    "    freqs = coll.Counter()\n",
    "    freqs.update(words)\n",
    "    N = len(words)\n",
    "    n = sum([1.0 * i * (i - 1) for i in freqs.values()])\n",
    "    if N > 1:\n",
    "        D = 1 - (n / (N * (N - 1)))\n",
    "        return D\n",
    "    else:\n",
    "        return None\n",
    "\n",
    "def RemoveSpecialCHs(text):\n",
    "    text = word_tokenize(text)\n",
    "    st = [\",\", \".\", \"'\", \"!\", '\"', \"#\", \"$\", \"%\", \"&\", \"(\", \")\", \"*\", \"+\", \"-\", \".\", \"/\", \":\", \";\", \"<\", \"=\", '>', \"?\",\n",
    "          \"@\", \"[\", \"\\\\\", \"]\", \"^\", \"_\", '`', \"{\", \"|\", \"}\", '~', '\\t', '\\n']\n",
    "\n",
    "    words = [word for word in text if word not in st]\n",
    "    return words\n",
    "\n",
    "\n",
    "data['simpsonsIndex'] = data.apply(lambda row : SimpsonsIndex(row.Text), axis = 1)\n"
   ]
  },
  {
   "cell_type": "code",
   "execution_count": 4,
   "metadata": {},
   "outputs": [
    {
     "data": {
      "text/plain": [
       "Unnamed: 0                    0\n",
       "Text                          0\n",
       "probpercentage                0\n",
       "words                         0\n",
       "avgWordLength                97\n",
       "sentenceLengthByChar          0\n",
       "specicalCharacterCount        0\n",
       "avgSyllablesPerWord           0\n",
       "countFunctionalWords          0\n",
       "hapaxLegemena                 0\n",
       "honoreMeasureR                0\n",
       "hapaxDisLegemena              0\n",
       "sichelesMeasureS              0\n",
       "avgWordFrequencyClass         0\n",
       "typeTokenRatio                0\n",
       "brunetsMeasureW            1454\n",
       "yulesK                        0\n",
       "simpsonsIndex              1403\n",
       "wordCount                     0\n",
       "uniqueWordCount               0\n",
       "shannonEntropy                0\n",
       "sentenceCount                 0\n",
       "gunningFoxIndex               0\n",
       "daleChallReadability          0\n",
       "fleschReadingEase             0\n",
       "fleschCincadeGradeLevel       0\n",
       "dtype: int64"
      ]
     },
     "execution_count": 4,
     "metadata": {},
     "output_type": "execute_result"
    }
   ],
   "source": [
    "data.isnull().sum()"
   ]
  },
  {
   "cell_type": "code",
   "execution_count": 5,
   "metadata": {},
   "outputs": [],
   "source": [
    "del data['brunetsMeasureW']\n",
    "del data['simpsonsIndex']\n",
    "del data['avgWordLength']\n"
   ]
  },
  {
   "cell_type": "code",
   "execution_count": 58,
   "metadata": {},
   "outputs": [
    {
     "data": {
      "text/plain": [
       "(289285, 24)"
      ]
     },
     "execution_count": 58,
     "metadata": {},
     "output_type": "execute_result"
    }
   ],
   "source": [
    "data.shape"
   ]
  },
  {
   "cell_type": "code",
   "execution_count": 6,
   "metadata": {},
   "outputs": [],
   "source": [
    "data.to_csv(\"Dataset_v3/metrics/blog_2000_sent_Jane_metrics.csv\")\n"
   ]
  },
  {
   "cell_type": "code",
   "execution_count": 13,
   "metadata": {},
   "outputs": [],
   "source": [
    "correct = data[data.probpercentage>=50]"
   ]
  },
  {
   "cell_type": "code",
   "execution_count": 14,
   "metadata": {},
   "outputs": [
    {
     "data": {
      "text/plain": [
       "count    4308.000000\n",
       "mean        1.394685\n",
       "std         0.408201\n",
       "min         1.000000\n",
       "25%         1.000000\n",
       "50%         1.000000\n",
       "75%         1.809524\n",
       "max         2.839623\n",
       "Name: avgWordFrequencyClass, dtype: float64"
      ]
     },
     "execution_count": 14,
     "metadata": {},
     "output_type": "execute_result"
    }
   ],
   "source": [
    "correct['avgWordFrequencyClass'].describe()"
   ]
  },
  {
   "cell_type": "code",
   "execution_count": 15,
   "metadata": {},
   "outputs": [
    {
     "data": {
      "text/plain": [
       "count    4308.000000\n",
       "mean        0.941534\n",
       "std         0.075624\n",
       "min         0.222222\n",
       "25%         0.900000\n",
       "50%         1.000000\n",
       "75%         1.000000\n",
       "max         1.000000\n",
       "Name: typeTokenRatio, dtype: float64"
      ]
     },
     "execution_count": 15,
     "metadata": {},
     "output_type": "execute_result"
    }
   ],
   "source": [
    "correct['typeTokenRatio'].describe()"
   ]
  },
  {
   "cell_type": "code",
   "execution_count": 17,
   "metadata": {},
   "outputs": [
    {
     "data": {
      "text/plain": [
       "count    4308.000000\n",
       "mean        0.891990\n",
       "std         0.133158\n",
       "min         0.083333\n",
       "25%         0.800000\n",
       "50%         1.000000\n",
       "75%         1.000000\n",
       "max         1.000000\n",
       "Name: hapaxLegemena, dtype: float64"
      ]
     },
     "execution_count": 17,
     "metadata": {},
     "output_type": "execute_result"
    }
   ],
   "source": [
    "correct['hapaxLegemena'].describe()"
   ]
  },
  {
   "cell_type": "code",
   "execution_count": 18,
   "metadata": {},
   "outputs": [
    {
     "data": {
      "text/plain": [
       "count    4308.000000\n",
       "mean     7130.053092\n",
       "std      2019.727678\n",
       "min         0.000000\n",
       "25%      5872.576177\n",
       "50%      7469.135802\n",
       "75%      8888.888889\n",
       "max      9722.222222\n",
       "Name: yulesK, dtype: float64"
      ]
     },
     "execution_count": 18,
     "metadata": {},
     "output_type": "execute_result"
    }
   ],
   "source": [
    "correct['yulesK'].describe()"
   ]
  },
  {
   "cell_type": "markdown",
   "metadata": {},
   "source": [
    "## most important"
   ]
  },
  {
   "cell_type": "code",
   "execution_count": 5,
   "metadata": {},
   "outputs": [],
   "source": [
    "X = data.iloc[:,5:]  #independent columns\n",
    "del X['hapaxLegemenaTuple']\n",
    "del X['hapaxDisLegemenaTuple']\n",
    "y = data.Label"
   ]
  },
  {
   "cell_type": "code",
   "execution_count": 6,
   "metadata": {},
   "outputs": [
    {
     "data": {
      "text/plain": [
       "Index(['avgWordLength', 'sentenceLengthByChar', 'specicalCharacterCount',\n",
       "       'avgSyllablesPerWord', 'countFunctionalWords', 'hapaxLegemena',\n",
       "       'honoreMeasureR', 'hapaxDisLegemena', 'sichelesMeasureS',\n",
       "       'avgWordFrequencyClass', 'typeTokenRatio', 'brunetsMeasureW', 'yulesK',\n",
       "       'simpsonsIndex', 'wordCount', 'uniqueWordCount', 'shannonEntropy',\n",
       "       'sentenceCount', 'gunningFoxIndex', 'daleChallReadability',\n",
       "       'fleschReadingEase', 'fleschCincadeGradeLevel'],\n",
       "      dtype='object')"
      ]
     },
     "execution_count": 6,
     "metadata": {},
     "output_type": "execute_result"
    }
   ],
   "source": [
    "X.columns"
   ]
  },
  {
   "cell_type": "code",
   "execution_count": 60,
   "metadata": {},
   "outputs": [
    {
     "name": "stdout",
     "output_type": "stream",
     "text": [
      "[0.0536754  0.04272112 0.0988167  0.06286338 0.06051533 0.04372725\n",
      " 0.03550632 0.03903883 0.03985672 0.05416743 0.04332663 0.04037961\n",
      " 0.04465756 0.05067599 0.03533169 0.03905616 0.0481403  0.\n",
      " 0.03845184 0.05072879 0.04205403 0.03630892]\n"
     ]
    },
    {
     "data": {
      "image/png": "[encoded data removed]",
      "text/plain": [
       "<Figure size 432x288 with 1 Axes>"
      ]
     },
     "metadata": {
      "needs_background": "light"
     },
     "output_type": "display_data"
    }
   ],
   "source": [
    "from sklearn.ensemble import ExtraTreesClassifier\n",
    "import matplotlib.pyplot as plt\n",
    "model = ExtraTreesClassifier()\n",
    "model.fit(X,y)\n",
    "print(model.feature_importances_) #use inbuilt class feature_importances of tree based classifiers\n",
    "#plot graph of feature importances for better visualization\n",
    "feat_importances = pd.Series(model.feature_importances_, index=X.columns)\n",
    "feat_importances.nlargest(5).plot(kind='barh')\n",
    "plt.title(\"Feature Importance for Jane Austen\")\n",
    "plt.show()"
   ]
  },
  {
   "cell_type": "code",
   "execution_count": 61,
   "metadata": {},
   "outputs": [
    {
     "data": {
      "text/plain": [
       "specicalCharacterCount    0.098817\n",
       "avgSyllablesPerWord       0.062863\n",
       "countFunctionalWords      0.060515\n",
       "avgWordFrequencyClass     0.054167\n",
       "avgWordLength             0.053675\n",
       "dtype: float64"
      ]
     },
     "execution_count": 61,
     "metadata": {},
     "output_type": "execute_result"
    }
   ],
   "source": [
    "feat_importances.nlargest(5)"
   ]
  },
  {
   "cell_type": "code",
   "execution_count": 62,
   "metadata": {},
   "outputs": [],
   "source": [
    "top5 = ['countFunctionalWords','avgSyllablesPerWord','specicalCharacterCount','avgWordFrequencyClass','avgWordLength']"
   ]
  },
  {
   "cell_type": "markdown",
   "metadata": {},
   "source": [
    "# Conversion to JSON"
   ]
  },
  {
   "cell_type": "code",
   "execution_count": 63,
   "metadata": {},
   "outputs": [],
   "source": [
    "data = data[data.Label == 1]"
   ]
  },
  {
   "cell_type": "code",
   "execution_count": 64,
   "metadata": {},
   "outputs": [],
   "source": [
    "data['Author']= 'Mark_Twain'"
   ]
  },
  {
   "cell_type": "code",
   "execution_count": 65,
   "metadata": {},
   "outputs": [
    {
     "data": {
      "text/html": [
       "<div>\n",
       "<style scoped>\n",
       "    .dataframe tbody tr th:only-of-type {\n",
       "        vertical-align: middle;\n",
       "    }\n",
       "\n",
       "    .dataframe tbody tr th {\n",
       "        vertical-align: top;\n",
       "    }\n",
       "\n",
       "    .dataframe thead th {\n",
       "        text-align: right;\n",
       "    }\n",
       "</style>\n",
       "<table border=\"1\" class=\"dataframe\">\n",
       "  <thead>\n",
       "    <tr style=\"text-align: right;\">\n",
       "      <th></th>\n",
       "      <th>Author</th>\n",
       "      <th>Metric</th>\n",
       "      <th>Statistic</th>\n",
       "      <th>Value</th>\n",
       "    </tr>\n",
       "  </thead>\n",
       "  <tbody>\n",
       "    <tr>\n",
       "      <th>0</th>\n",
       "      <td>Mark_Twain</td>\n",
       "      <td>avgSyllablesPerWord</td>\n",
       "      <td>mean</td>\n",
       "      <td>1.375951</td>\n",
       "    </tr>\n",
       "    <tr>\n",
       "      <th>1</th>\n",
       "      <td>Mark_Twain</td>\n",
       "      <td>avgWordFrequencyClass</td>\n",
       "      <td>mean</td>\n",
       "      <td>3.108803</td>\n",
       "    </tr>\n",
       "    <tr>\n",
       "      <th>2</th>\n",
       "      <td>Mark_Twain</td>\n",
       "      <td>avgWordLength</td>\n",
       "      <td>mean</td>\n",
       "      <td>5.710376</td>\n",
       "    </tr>\n",
       "    <tr>\n",
       "      <th>3</th>\n",
       "      <td>Mark_Twain</td>\n",
       "      <td>brunetsMeasureW</td>\n",
       "      <td>mean</td>\n",
       "      <td>45.862096</td>\n",
       "    </tr>\n",
       "    <tr>\n",
       "      <th>4</th>\n",
       "      <td>Mark_Twain</td>\n",
       "      <td>countFunctionalWords</td>\n",
       "      <td>mean</td>\n",
       "      <td>0.396333</td>\n",
       "    </tr>\n",
       "  </tbody>\n",
       "</table>\n",
       "</div>"
      ],
      "text/plain": [
       "       Author                 Metric Statistic      Value\n",
       "0  Mark_Twain    avgSyllablesPerWord      mean   1.375951\n",
       "1  Mark_Twain  avgWordFrequencyClass      mean   3.108803\n",
       "2  Mark_Twain          avgWordLength      mean   5.710376\n",
       "3  Mark_Twain        brunetsMeasureW      mean  45.862096\n",
       "4  Mark_Twain   countFunctionalWords      mean   0.396333"
      ]
     },
     "execution_count": 65,
     "metadata": {},
     "output_type": "execute_result"
    }
   ],
   "source": [
    "#==================================================================================\n",
    "# Convert to Longform\n",
    "#==================================================================================\n",
    "from pipeline import metrics as m\n",
    "\n",
    "data = m.input_to_stats(data, m.METRICS)\n",
    "data.head()"
   ]
  },
  {
   "cell_type": "code",
   "execution_count": 66,
   "metadata": {},
   "outputs": [],
   "source": [
    "data = data[data.Metric.isin(top5)]"
   ]
  },
  {
   "cell_type": "code",
   "execution_count": 67,
   "metadata": {},
   "outputs": [
    {
     "data": {
      "text/plain": [
       "30"
      ]
     },
     "execution_count": 67,
     "metadata": {},
     "output_type": "execute_result"
    }
   ],
   "source": [
    "len(data)"
   ]
  },
  {
   "cell_type": "code",
   "execution_count": 68,
   "metadata": {},
   "outputs": [],
   "source": [
    "#==================================================================================\n",
    "# Save\n",
    "#==================================================================================\n",
    "\n",
    "data.to_json(\"Metrics/v2/MarkTwain_top5.json\", orient=\"records\")"
   ]
  },
  {
   "cell_type": "code",
   "execution_count": null,
   "metadata": {},
   "outputs": [],
   "source": []
  }
 ],
 "metadata": {
  "kernelspec": {
   "display_name": "Python 3",
   "language": "python",
   "name": "python3"
  },
  "language_info": {
   "codemirror_mode": {
    "name": "ipython",
    "version": 3
   },
   "file_extension": ".py",
   "mimetype": "text/x-python",
   "name": "python",
   "nbconvert_exporter": "python",
   "pygments_lexer": "ipython3",
   "version": "3.8.3"
  }
 },
 "nbformat": 4,
 "nbformat_minor": 2
}
