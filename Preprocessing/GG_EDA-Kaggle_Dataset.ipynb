{
 "cells": [
  {
   "cell_type": "code",
   "execution_count": 64,
   "metadata": {
    "ExecuteTime": {
     "end_time": "2021-02-03T04:41:16.521513Z",
     "start_time": "2021-02-03T04:41:16.515811Z"
    }
   },
   "outputs": [],
   "source": [
    "import pandas as pd\n",
    "# pd.set_option('display.max_colwidth', -1)\n",
    "import contractions\n",
    "\n",
    "import nltk\n",
    "from nltk.probability import FreqDist\n",
    "from nltk.tokenize import word_tokenize\n",
    "from nltk.corpus import stopwords, wordnet\n",
    "from nltk.stem import WordNetLemmatizer\n",
    "\n",
    "import textstat\n",
    "\n",
    "import seaborn as sns\n",
    "import matplotlib.pyplot as plt\n",
    "\n",
    "import warnings\n",
    "warnings.filterwarnings('ignore')"
   ]
  },
  {
   "cell_type": "code",
   "execution_count": 2,
   "metadata": {
    "ExecuteTime": {
     "end_time": "2021-02-03T00:41:11.179291Z",
     "start_time": "2021-02-03T00:41:10.978239Z"
    }
   },
   "outputs": [],
   "source": [
    "essay_train_data = pd.read_csv('data/kaggle_hawlett_data/training_set_rel3.csv')\n",
    "essay_test_data = pd.read_csv('data/kaggle_hawlett_data/valid_set.csv')\n"
   ]
  },
  {
   "cell_type": "code",
   "execution_count": 3,
   "metadata": {
    "ExecuteTime": {
     "end_time": "2021-02-03T00:41:11.812074Z",
     "start_time": "2021-02-03T00:41:11.799125Z"
    }
   },
   "outputs": [
    {
     "data": {
      "text/plain": [
       "Index(['essay_id', 'essay_set', 'essay', 'rater1_domain1', 'rater2_domain1',\n",
       "       'rater3_domain1', 'domain1_score', 'rater1_domain2', 'rater2_domain2',\n",
       "       'domain2_score', 'rater1_trait1', 'rater1_trait2', 'rater1_trait3',\n",
       "       'rater1_trait4', 'rater1_trait5', 'rater1_trait6', 'rater2_trait1',\n",
       "       'rater2_trait2', 'rater2_trait3', 'rater2_trait4', 'rater2_trait5',\n",
       "       'rater2_trait6', 'rater3_trait1', 'rater3_trait2', 'rater3_trait3',\n",
       "       'rater3_trait4', 'rater3_trait5', 'rater3_trait6'],\n",
       "      dtype='object')"
      ]
     },
     "execution_count": 3,
     "metadata": {},
     "output_type": "execute_result"
    }
   ],
   "source": [
    "essay_train_data.columns"
   ]
  },
  {
   "cell_type": "code",
   "execution_count": 4,
   "metadata": {
    "ExecuteTime": {
     "end_time": "2021-02-03T00:41:12.663400Z",
     "start_time": "2021-02-03T00:41:12.655361Z"
    }
   },
   "outputs": [
    {
     "data": {
      "text/plain": [
       "5    1805\n",
       "6    1800\n",
       "2    1800\n",
       "1    1783\n",
       "4    1772\n",
       "3    1726\n",
       "7    1569\n",
       "8     723\n",
       "Name: essay_set, dtype: int64"
      ]
     },
     "execution_count": 4,
     "metadata": {},
     "output_type": "execute_result"
    }
   ],
   "source": [
    "essay_train_data['essay_set'].value_counts()"
   ]
  },
  {
   "cell_type": "code",
   "execution_count": 46,
   "metadata": {
    "ExecuteTime": {
     "end_time": "2021-02-03T04:29:28.380506Z",
     "start_time": "2021-02-03T04:29:28.136956Z"
    }
   },
   "outputs": [
    {
     "data": {
      "text/plain": [
       "<matplotlib.axes._subplots.AxesSubplot at 0x7f8f46d15670>"
      ]
     },
     "execution_count": 46,
     "metadata": {},
     "output_type": "execute_result"
    },
    {
     "data": {
      "image/png": "[encoded data removed]",
      "text/plain": [
       "<Figure size 432x288 with 1 Axes>"
      ]
     },
     "metadata": {
      "needs_background": "light"
     },
     "output_type": "display_data"
    }
   ],
   "source": [
    "sns.boxplot(data=essay_train_data, x='essay_set', y='domain1_score')"
   ]
  },
  {
   "cell_type": "code",
   "execution_count": 48,
   "metadata": {
    "ExecuteTime": {
     "end_time": "2021-02-03T04:35:33.013375Z",
     "start_time": "2021-02-03T04:35:31.981247Z"
    }
   },
   "outputs": [],
   "source": [
    "def higher_score(row):\n",
    "    if row['essay_set'] == 1 and row['domain1_score'] >= 10:\n",
    "        return True\n",
    "    if row['essay_set'] == 2 and row['domain1_score'] >= 4:\n",
    "        return True\n",
    "    if row['essay_set'] == 3 and row['domain1_score'] >= 2:\n",
    "        return True\n",
    "    if row['essay_set'] == 4 and row['domain1_score'] >= 2:\n",
    "        return True\n",
    "    if row['essay_set'] == 5 and row['domain1_score'] >= 3:\n",
    "        return True\n",
    "    if row['essay_set'] == 6 and row['domain1_score'] >= 3:\n",
    "        return True\n",
    "    if row['essay_set'] == 7 and row['domain1_score'] >= 19:\n",
    "        return True\n",
    "    if row['essay_set'] == 8 and row['domain1_score'] >= 40:\n",
    "        return True\n",
    "    return False \n",
    "\n",
    "essay_train_data['higher_score'] = essay_train_data.apply(higher_score, axis=1)"
   ]
  },
  {
   "cell_type": "code",
   "execution_count": 49,
   "metadata": {
    "ExecuteTime": {
     "end_time": "2021-02-03T04:35:36.281507Z",
     "start_time": "2021-02-03T04:35:36.251362Z"
    }
   },
   "outputs": [],
   "source": [
    "essay_train_data1 = essay_train_data[essay_train_data['essay_set']==1]\n",
    "essay_train_data2 = essay_train_data[essay_train_data['essay_set']==2]\n",
    "essay_train_data3 = essay_train_data[essay_train_data['essay_set']==3]\n",
    "essay_train_data4 = essay_train_data[essay_train_data['essay_set']==4]\n",
    "essay_train_data5 = essay_train_data[essay_train_data['essay_set']==5]\n",
    "essay_train_data6 = essay_train_data[essay_train_data['essay_set']==6]\n",
    "essay_train_data7 = essay_train_data[essay_train_data['essay_set']==7]\n",
    "essay_train_data8 = essay_train_data[essay_train_data['essay_set']==8]"
   ]
  },
  {
   "cell_type": "code",
   "execution_count": 50,
   "metadata": {
    "ExecuteTime": {
     "end_time": "2021-02-03T04:35:47.445734Z",
     "start_time": "2021-02-03T04:35:47.287530Z"
    }
   },
   "outputs": [
    {
     "data": {
      "text/plain": [
       "<matplotlib.axes._subplots.AxesSubplot at 0x7f8f47f8db80>"
      ]
     },
     "execution_count": 50,
     "metadata": {},
     "output_type": "execute_result"
    },
    {
     "data": {
      "image/png": "[encoded data removed]",
      "text/plain": [
       "<Figure size 432x288 with 1 Axes>"
      ]
     },
     "metadata": {
      "needs_background": "light"
     },
     "output_type": "display_data"
    }
   ],
   "source": [
    "# essay_train_data1['domain1_score'].value_counts()\n",
    "\n",
    "essay_train_data1.groupby(['domain1_score'])['essay_id'].count().plot.bar()\n"
   ]
  },
  {
   "cell_type": "code",
   "execution_count": 51,
   "metadata": {
    "ExecuteTime": {
     "end_time": "2021-02-03T04:35:53.392143Z",
     "start_time": "2021-02-03T04:35:53.387525Z"
    }
   },
   "outputs": [],
   "source": [
    "def essay_corpus(essay):\n",
    "    corpus_string = ''\n",
    "    for word in essay:\n",
    "        corpus_string = corpus_string + str(word)\n",
    "    return corpus_string\n",
    "\n",
    "# essay_corpus(essay_train_data1[essay_train_data1['essay_id'] == 1]['essay'])"
   ]
  },
  {
   "cell_type": "code",
   "execution_count": 52,
   "metadata": {
    "ExecuteTime": {
     "end_time": "2021-02-03T04:36:29.668403Z",
     "start_time": "2021-02-03T04:35:54.013422Z"
    }
   },
   "outputs": [],
   "source": [
    "# essay_train_data1['no_contract'] = essay_train_data1['essay'].apply(lambda x: [contractions.fix(word) for word in x.split()])\n",
    "# essay_train_data1['essay_str'] = [' '.join(map(str, l)) for l in essay_train_data1['no_contract']]\n",
    "                                                                  \n",
    "# essay_train_data1[\"essay_str\"] = [' '.join([item for item in x.split() \n",
    "#                   if item[0] != '@']) \n",
    "#                   for x in essay_train_data1[\"essay_str\"]]\n",
    "\n",
    "\n",
    "contract = lambda x: ' '.join([contractions.fix(word) for word in x.split()])\n",
    "essay_train_data[\"no_contract\"] = essay_train_data[\"essay\"].apply(contract)  \n",
    "\n",
    "string = lambda x: ' '.join([item for item in x.split() if item[0] != '@'])\n",
    "essay_train_data[\"essay_str\"] = essay_train_data[\"no_contract\"].apply(string)           \n",
    "\n",
    "essay_train_data['tokenized'] = essay_train_data['essay_str'].apply(word_tokenize)\n",
    "\n",
    "sentence = lambda x: textstat.sentence_count(x)\n",
    "essay_train_data['sentence_cnt'] = essay_train_data['essay_str'].apply(sentence)\n",
    "\n",
    "character = lambda x: textstat.char_count(x, ignore_spaces=True)\n",
    "essay_train_data['char_cnt'] = essay_train_data['essay_str'].apply(character)\n",
    "\n",
    "word = lambda x: len(x.split())\n",
    "essay_train_data['word_cnt'] = essay_train_data['essay_str'].apply(word)\n",
    "\n",
    "uword = lambda x: len(set(x.split()))\n",
    "essay_train_data['unique_word_cnt'] = essay_train_data['essay_str'].apply(uword)\n",
    "\n",
    "#lexical diversity = unique words / total words\n",
    "essay_train_data['lex_diversity'] = essay_train_data['unique_word_cnt'] / essay_train_data['word_cnt']\n",
    "\n",
    "fdist = lambda x: FreqDist(x)\n",
    "essay_train_data['freq_dist'] = essay_train_data['tokenized'].apply(fdist)\n",
    "\n",
    "fdist5 = lambda x: FreqDist([w for w in x if len(w) > 5])\n",
    "essay_train_data['freq_dist5'] = essay_train_data['tokenized'].apply(fdist5)\n",
    "\n",
    "uword5 = lambda x: len(x)\n",
    "essay_train_data['unique_word_cnt5'] = essay_train_data['freq_dist5'].apply(uword5)\n",
    "\n",
    "\n",
    "fdist7 = lambda x: FreqDist([w for w in x if len(w) > 7])\n",
    "essay_train_data['freq_dist7'] = essay_train_data['tokenized'].apply(fdist7)\n",
    "\n",
    "uword7 = lambda x: len(x)\n",
    "essay_train_data['unique_word_cnt7'] = essay_train_data['freq_dist7'].apply(uword7)\n",
    "\n",
    "\n",
    "fdist10 = lambda x: FreqDist([w for w in x if len(w) > 10])\n",
    "essay_train_data['freq_dist10'] = essay_train_data['tokenized'].apply(fdist10)\n",
    "\n",
    "uword10 = lambda x: len(x)\n",
    "essay_train_data['unique_word_cnt10'] = essay_train_data['freq_dist10'].apply(uword10)\n",
    "\n"
   ]
  },
  {
   "cell_type": "code",
   "execution_count": 56,
   "metadata": {
    "ExecuteTime": {
     "end_time": "2021-02-03T04:36:48.654986Z",
     "start_time": "2021-02-03T04:36:48.592471Z"
    }
   },
   "outputs": [
    {
     "data": {
      "text/html": [
       "<div>\n",
       "<style scoped>\n",
       "    .dataframe tbody tr th:only-of-type {\n",
       "        vertical-align: middle;\n",
       "    }\n",
       "\n",
       "    .dataframe tbody tr th {\n",
       "        vertical-align: top;\n",
       "    }\n",
       "\n",
       "    .dataframe thead th {\n",
       "        text-align: right;\n",
       "    }\n",
       "</style>\n",
       "<table border=\"1\" class=\"dataframe\">\n",
       "  <thead>\n",
       "    <tr style=\"text-align: right;\">\n",
       "      <th></th>\n",
       "      <th>essay_id</th>\n",
       "      <th>essay_set</th>\n",
       "      <th>essay</th>\n",
       "      <th>rater1_domain1</th>\n",
       "      <th>rater2_domain1</th>\n",
       "      <th>rater3_domain1</th>\n",
       "      <th>domain1_score</th>\n",
       "      <th>rater1_domain2</th>\n",
       "      <th>rater2_domain2</th>\n",
       "      <th>domain2_score</th>\n",
       "      <th>...</th>\n",
       "      <th>unique_word_cnt</th>\n",
       "      <th>lex_diversity</th>\n",
       "      <th>freq_dist</th>\n",
       "      <th>freq_dist5</th>\n",
       "      <th>unique_word_cnt5</th>\n",
       "      <th>freq_dist7</th>\n",
       "      <th>unique_word_cnt7</th>\n",
       "      <th>freq_dist10</th>\n",
       "      <th>unique_word_cnt10</th>\n",
       "      <th>higher_score</th>\n",
       "    </tr>\n",
       "  </thead>\n",
       "  <tbody>\n",
       "    <tr>\n",
       "      <th>0</th>\n",
       "      <td>1</td>\n",
       "      <td>1</td>\n",
       "      <td>Dear local newspaper, I think effects computer...</td>\n",
       "      <td>4.0</td>\n",
       "      <td>4.0</td>\n",
       "      <td>NaN</td>\n",
       "      <td>8.0</td>\n",
       "      <td>NaN</td>\n",
       "      <td>NaN</td>\n",
       "      <td>NaN</td>\n",
       "      <td>...</td>\n",
       "      <td>175</td>\n",
       "      <td>0.516224</td>\n",
       "      <td>{'Dear': 1, 'local': 2, 'newspaper': 1, ',': 1...</td>\n",
       "      <td>{'newspaper': 1, 'effects': 2, 'computers': 2,...</td>\n",
       "      <td>53</td>\n",
       "      <td>{'newspaper': 1, 'computers': 2, 'learning': 2...</td>\n",
       "      <td>26</td>\n",
       "      <td>{'skills/affects': 1, 'friends/new': 2, 'count...</td>\n",
       "      <td>6</td>\n",
       "      <td>False</td>\n",
       "    </tr>\n",
       "    <tr>\n",
       "      <th>1</th>\n",
       "      <td>2</td>\n",
       "      <td>1</td>\n",
       "      <td>Dear @CAPS1 @CAPS2, I believe that using compu...</td>\n",
       "      <td>5.0</td>\n",
       "      <td>4.0</td>\n",
       "      <td>NaN</td>\n",
       "      <td>9.0</td>\n",
       "      <td>NaN</td>\n",
       "      <td>NaN</td>\n",
       "      <td>NaN</td>\n",
       "      <td>...</td>\n",
       "      <td>208</td>\n",
       "      <td>0.503632</td>\n",
       "      <td>{'Dear': 1, 'I': 7, 'believe': 2, 'that': 6, '...</td>\n",
       "      <td>{'believe': 2, 'computers': 7, 'benefit': 3, '...</td>\n",
       "      <td>66</td>\n",
       "      <td>{'computers': 7, 'becoming': 1, 'websites': 2,...</td>\n",
       "      <td>28</td>\n",
       "      <td>{'coordibates': 2, 'information': 4, 'conversa...</td>\n",
       "      <td>5</td>\n",
       "      <td>False</td>\n",
       "    </tr>\n",
       "    <tr>\n",
       "      <th>2</th>\n",
       "      <td>3</td>\n",
       "      <td>1</td>\n",
       "      <td>Dear, @CAPS1 @CAPS2 @CAPS3 More and more peopl...</td>\n",
       "      <td>4.0</td>\n",
       "      <td>3.0</td>\n",
       "      <td>NaN</td>\n",
       "      <td>7.0</td>\n",
       "      <td>NaN</td>\n",
       "      <td>NaN</td>\n",
       "      <td>NaN</td>\n",
       "      <td>...</td>\n",
       "      <td>157</td>\n",
       "      <td>0.568841</td>\n",
       "      <td>{'Dear': 1, ',': 8, 'More': 1, 'and': 12, 'mor...</td>\n",
       "      <td>{'people': 6, 'computers': 6, 'everyone': 1, '...</td>\n",
       "      <td>54</td>\n",
       "      <td>{'computers': 6, 'everyone': 1, 'benefits': 1,...</td>\n",
       "      <td>19</td>\n",
       "      <td>{'accomplishments': 1, 'interacting': 2}</td>\n",
       "      <td>2</td>\n",
       "      <td>False</td>\n",
       "    </tr>\n",
       "    <tr>\n",
       "      <th>3</th>\n",
       "      <td>4</td>\n",
       "      <td>1</td>\n",
       "      <td>Dear Local Newspaper, @CAPS1 I have found that...</td>\n",
       "      <td>5.0</td>\n",
       "      <td>5.0</td>\n",
       "      <td>NaN</td>\n",
       "      <td>10.0</td>\n",
       "      <td>NaN</td>\n",
       "      <td>NaN</td>\n",
       "      <td>NaN</td>\n",
       "      <td>...</td>\n",
       "      <td>251</td>\n",
       "      <td>0.516461</td>\n",
       "      <td>{'Dear': 1, 'Local': 1, 'Newspaper': 3, ',': 1...</td>\n",
       "      <td>{'Newspaper': 3, 'experts': 1, 'computers': 8,...</td>\n",
       "      <td>103</td>\n",
       "      <td>{'Newspaper': 3, 'computers': 8, 'studdies': 1...</td>\n",
       "      <td>50</td>\n",
       "      <td>{'advertisments': 1, 'communication': 4, 'info...</td>\n",
       "      <td>6</td>\n",
       "      <td>True</td>\n",
       "    </tr>\n",
       "    <tr>\n",
       "      <th>4</th>\n",
       "      <td>5</td>\n",
       "      <td>1</td>\n",
       "      <td>Dear @LOCATION1, I know having computers has a...</td>\n",
       "      <td>4.0</td>\n",
       "      <td>4.0</td>\n",
       "      <td>NaN</td>\n",
       "      <td>8.0</td>\n",
       "      <td>NaN</td>\n",
       "      <td>NaN</td>\n",
       "      <td>NaN</td>\n",
       "      <td>...</td>\n",
       "      <td>220</td>\n",
       "      <td>0.473118</td>\n",
       "      <td>{'Dear': 1, 'I': 1, 'know': 1, 'having': 1, 'c...</td>\n",
       "      <td>{'having': 1, 'computers': 9, 'positive': 1, '...</td>\n",
       "      <td>77</td>\n",
       "      <td>{'computers': 9, 'positive': 1, 'families': 3,...</td>\n",
       "      <td>34</td>\n",
       "      <td>{'information': 3, 'school/collage': 1, 'commu...</td>\n",
       "      <td>4</td>\n",
       "      <td>False</td>\n",
       "    </tr>\n",
       "  </tbody>\n",
       "</table>\n",
       "<p>5 rows × 44 columns</p>\n",
       "</div>"
      ],
      "text/plain": [
       "   essay_id  essay_set                                              essay  \\\n",
       "0         1          1  Dear local newspaper, I think effects computer...   \n",
       "1         2          1  Dear @CAPS1 @CAPS2, I believe that using compu...   \n",
       "2         3          1  Dear, @CAPS1 @CAPS2 @CAPS3 More and more peopl...   \n",
       "3         4          1  Dear Local Newspaper, @CAPS1 I have found that...   \n",
       "4         5          1  Dear @LOCATION1, I know having computers has a...   \n",
       "\n",
       "   rater1_domain1  rater2_domain1  rater3_domain1  domain1_score  \\\n",
       "0             4.0             4.0             NaN            8.0   \n",
       "1             5.0             4.0             NaN            9.0   \n",
       "2             4.0             3.0             NaN            7.0   \n",
       "3             5.0             5.0             NaN           10.0   \n",
       "4             4.0             4.0             NaN            8.0   \n",
       "\n",
       "   rater1_domain2  rater2_domain2  domain2_score  ...  unique_word_cnt  \\\n",
       "0             NaN             NaN            NaN  ...              175   \n",
       "1             NaN             NaN            NaN  ...              208   \n",
       "2             NaN             NaN            NaN  ...              157   \n",
       "3             NaN             NaN            NaN  ...              251   \n",
       "4             NaN             NaN            NaN  ...              220   \n",
       "\n",
       "   lex_diversity                                          freq_dist  \\\n",
       "0       0.516224  {'Dear': 1, 'local': 2, 'newspaper': 1, ',': 1...   \n",
       "1       0.503632  {'Dear': 1, 'I': 7, 'believe': 2, 'that': 6, '...   \n",
       "2       0.568841  {'Dear': 1, ',': 8, 'More': 1, 'and': 12, 'mor...   \n",
       "3       0.516461  {'Dear': 1, 'Local': 1, 'Newspaper': 3, ',': 1...   \n",
       "4       0.473118  {'Dear': 1, 'I': 1, 'know': 1, 'having': 1, 'c...   \n",
       "\n",
       "                                          freq_dist5  unique_word_cnt5  \\\n",
       "0  {'newspaper': 1, 'effects': 2, 'computers': 2,...                53   \n",
       "1  {'believe': 2, 'computers': 7, 'benefit': 3, '...                66   \n",
       "2  {'people': 6, 'computers': 6, 'everyone': 1, '...                54   \n",
       "3  {'Newspaper': 3, 'experts': 1, 'computers': 8,...               103   \n",
       "4  {'having': 1, 'computers': 9, 'positive': 1, '...                77   \n",
       "\n",
       "                                          freq_dist7  unique_word_cnt7  \\\n",
       "0  {'newspaper': 1, 'computers': 2, 'learning': 2...                26   \n",
       "1  {'computers': 7, 'becoming': 1, 'websites': 2,...                28   \n",
       "2  {'computers': 6, 'everyone': 1, 'benefits': 1,...                19   \n",
       "3  {'Newspaper': 3, 'computers': 8, 'studdies': 1...                50   \n",
       "4  {'computers': 9, 'positive': 1, 'families': 3,...                34   \n",
       "\n",
       "                                         freq_dist10  unique_word_cnt10  \\\n",
       "0  {'skills/affects': 1, 'friends/new': 2, 'count...                  6   \n",
       "1  {'coordibates': 2, 'information': 4, 'conversa...                  5   \n",
       "2           {'accomplishments': 1, 'interacting': 2}                  2   \n",
       "3  {'advertisments': 1, 'communication': 4, 'info...                  6   \n",
       "4  {'information': 3, 'school/collage': 1, 'commu...                  4   \n",
       "\n",
       "   higher_score  \n",
       "0         False  \n",
       "1         False  \n",
       "2         False  \n",
       "3          True  \n",
       "4         False  \n",
       "\n",
       "[5 rows x 44 columns]"
      ]
     },
     "execution_count": 56,
     "metadata": {},
     "output_type": "execute_result"
    }
   ],
   "source": [
    "essay_train_data.head(5)"
   ]
  },
  {
   "cell_type": "code",
   "execution_count": 79,
   "metadata": {
    "ExecuteTime": {
     "end_time": "2021-02-03T04:51:59.128468Z",
     "start_time": "2021-02-03T04:51:57.898875Z"
    }
   },
   "outputs": [
    {
     "data": {
      "image/png": "[encoded data removed]",
      "text/plain": [
       "<Figure size 1080x1080 with 4 Axes>"
      ]
     },
     "metadata": {
      "needs_background": "light"
     },
     "output_type": "display_data"
    }
   ],
   "source": [
    "fig, ax =plt.subplots(2,2)\n",
    "sns.boxplot(x=\"essay_set\", y=\"unique_word_cnt\",hue=\"higher_score\",data=essay_train_data, palette=\"Set3\",ax=ax[0][0]).set_title('Essay Score Vs WordCount')\n",
    "sns.boxplot(x=\"essay_set\", y=\"unique_word_cnt10\",hue=\"higher_score\",data=essay_train_data, palette=\"Set3\",ax=ax[0][1]).set_title('Essay Score Vs 10Letter WordCount')\n",
    "sns.boxplot(x=\"essay_set\", y=\"unique_word_cnt5\",hue=\"higher_score\",data=essay_train_data, palette=\"Set3\",ax=ax[1][0]).set_title('Essay Score Vs 5Letter WordCount')\n",
    "sns.boxplot(x=\"essay_set\", y=\"unique_word_cnt7\",hue=\"higher_score\",data=essay_train_data, palette=\"Set3\",ax=ax[1][1]).set_title('Essay Score Vs 7Letter WordCount')\n",
    "\n",
    "fig.set_figheight(15)\n",
    "fig.set_figwidth(15)\n",
    "fig.show()\n",
    "\n",
    "# ax = sns.boxplot(x=\"essay_set\", y=\"unique_word_cnt\",hue=\"higher_score\",data=essay_train_data, palette=\"Set3\")"
   ]
  },
  {
   "cell_type": "code",
   "execution_count": null,
   "metadata": {},
   "outputs": [],
   "source": []
  }
 ],
 "metadata": {
  "kernelspec": {
   "display_name": "Python 3",
   "language": "python",
   "name": "python3"
  },
  "language_info": {
   "codemirror_mode": {
    "name": "ipython",
    "version": 3
   },
   "file_extension": ".py",
   "mimetype": "text/x-python",
   "name": "python",
   "nbconvert_exporter": "python",
   "pygments_lexer": "ipython3",
   "version": "3.8.3"
  }
 },
 "nbformat": 4,
 "nbformat_minor": 4
}
