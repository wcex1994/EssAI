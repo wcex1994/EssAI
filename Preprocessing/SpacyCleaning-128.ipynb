{
 "cells": [
  {
   "cell_type": "code",
   "execution_count": 3,
   "metadata": {},
   "outputs": [],
   "source": [
    "import torch\n",
    "import pickle\n",
    "import json\n",
    "import pandas as pd\n",
    "import numpy as np\n",
    "from sklearn.metrics import classification_report, accuracy_score\n",
    "from sklearn.preprocessing import LabelEncoder\n",
    "from sklearn.model_selection import train_test_split\n",
    "import torch.nn as nn\n",
    "from matplotlib import pyplot as plt\n",
    "import spacy\n",
    "import re"
   ]
  },
  {
   "cell_type": "code",
   "execution_count": 4,
   "metadata": {},
   "outputs": [],
   "source": [
    "nlp = spacy.load(\"en_core_web_sm\")"
   ]
  },
  {
   "cell_type": "code",
   "execution_count": 5,
   "metadata": {},
   "outputs": [
    {
     "name": "stdout",
     "output_type": "stream",
     "text": [
      "Charles ATaleOfTwoCities_chunkByLength_128: (1197, 11) \n",
      "charles BarnabyRudge_chunkByLength_128: (2270, 11)\n",
      "charles DavidCopperfield_chunkByLength_128: (3158, 11)\n",
      "charles DombeyAndSon_chunkByLength_128: (3194, 11)\n",
      "charles GreatExpectations_chunkByLength_128: (1644, 11)\n",
      "charles LittleDorrit_chunkByLength_128: (2978, 11)\n",
      "charles OliverTwist_chunkByLength_128: (1396, 11)\n",
      "charles OurMutualFriend_chunkByLength_128: (2849, 11)\n",
      "charles TheChimes_chunkByLength_128: (267, 11)\n",
      "charles TheLifeAndAdventuresOfMartinChuzzlewit_chunkByLength_128: (2976, 11)\n",
      "charles TheLifeAndAdventuresOfNicholasNickleby_chunkByLength_128: (2872, 11)\n",
      "charles TheMysteryOfEdwinDrood_chunkByLength_128: (844, 11)\n",
      "charles TheOldCuriosityShop_chunkByLength_128: (1947, 11)\n",
      "charles ThePickwickPapers_chunkByLength_128: (2677, 11)\n"
     ]
    }
   ],
   "source": [
    "dirname = '../Dataset_v3/chunks/CharlesDickens/ATaleOfTwoCities_chunkByLength_128.csv'\n",
    "charles1 = pd.read_csv(dirname)\n",
    "print(\"Charles ATaleOfTwoCities_chunkByLength_128: {0} \".format(charles1.shape))\n",
    "\n",
    "dirname = '../Dataset_v3/chunks/CharlesDickens/BarnabyRudge_chunkByLength_128.csv'\n",
    "charles2 = pd.read_csv(dirname)\n",
    "print(\"charles BarnabyRudge_chunkByLength_128: {0}\" .format(charles2.shape))\n",
    "\n",
    "dirname = '../Dataset_v3/chunks/CharlesDickens/DavidCopperfield_chunkByLength_128.csv'\n",
    "charles3 = pd.read_csv(dirname)\n",
    "print(\"charles DavidCopperfield_chunkByLength_128: {0}\" .format(charles3.shape))\n",
    "\n",
    "dirname = '../Dataset_v3/chunks/CharlesDickens/DombeyAndSon_chunkByLength_128.csv'\n",
    "charles4 = pd.read_csv(dirname)\n",
    "print(\"charles DombeyAndSon_chunkByLength_128: {0}\" .format(charles4.shape))\n",
    "\n",
    "dirname = '../Dataset_v3/chunks/CharlesDickens/GreatExpectations_chunkByLength_128.csv'\n",
    "charles5 = pd.read_csv(dirname)\n",
    "print(\"charles GreatExpectations_chunkByLength_128: {0}\" .format(charles5.shape))\n",
    "\n",
    "dirname = '../Dataset_v3/chunks/CharlesDickens/LittleDorrit_chunkByLength_128.csv'\n",
    "charles6 = pd.read_csv(dirname)\n",
    "print(\"charles LittleDorrit_chunkByLength_128: {0}\" .format(charles6.shape))\n",
    "\n",
    "dirname = '../Dataset_v3/chunks/CharlesDickens/OliverTwist_chunkByLength_128.csv'\n",
    "charles7 = pd.read_csv(dirname)\n",
    "print(\"charles OliverTwist_chunkByLength_128: {0}\" .format(charles7.shape))\n",
    "\n",
    "dirname = '../Dataset_v3/chunks/CharlesDickens/OurMutualFriend_chunkByLength_128.csv'\n",
    "charles8 = pd.read_csv(dirname)\n",
    "print(\"charles OurMutualFriend_chunkByLength_128: {0}\" .format(charles8.shape))\n",
    "\n",
    "dirname = '../Dataset_v3/chunks/CharlesDickens/TheChimes_chunkByLength_128.csv'\n",
    "charles9 = pd.read_csv(dirname)\n",
    "print(\"charles TheChimes_chunkByLength_128: {0}\" .format(charles9.shape))\n",
    "\n",
    "dirname = '../Dataset_v3/chunks/CharlesDickens/TheLifeAndAdventuresOfMartinChuzzlewit_chunkByLength_128.csv'\n",
    "charles10 = pd.read_csv(dirname)\n",
    "print(\"charles TheLifeAndAdventuresOfMartinChuzzlewit_chunkByLength_128: {0}\" .format(charles10.shape))\n",
    "\n",
    "dirname = '../Dataset_v3/chunks/CharlesDickens/TheLifeAndAdventuresOfNicholasNickleby_chunkByLength_128.csv'\n",
    "charles11 = pd.read_csv(dirname)\n",
    "print(\"charles TheLifeAndAdventuresOfNicholasNickleby_chunkByLength_128: {0}\" .format(charles11.shape))\n",
    "\n",
    "dirname = '../Dataset_v3/chunks/CharlesDickens/TheMysteryOfEdwinDrood_chunkByLength_128.csv'\n",
    "charles12 = pd.read_csv(dirname)\n",
    "print(\"charles TheMysteryOfEdwinDrood_chunkByLength_128: {0}\" .format(charles12.shape))\n",
    "\n",
    "dirname = '../Dataset_v3/chunks/CharlesDickens/TheOldCuriosityShop_chunkByLength_128.csv'\n",
    "charles13 = pd.read_csv(dirname)\n",
    "print(\"charles TheOldCuriosityShop_chunkByLength_128: {0}\" .format(charles13.shape))\n",
    "\n",
    "dirname = '../Dataset_v3/chunks/CharlesDickens/ThePickwickPapers_chunkByLength_128.csv'\n",
    "charles14 = pd.read_csv(dirname)\n",
    "print(\"charles ThePickwickPapers_chunkByLength_128: {0}\" .format(charles14.shape))\n"
   ]
  },
  {
   "cell_type": "code",
   "execution_count": 12,
   "metadata": {},
   "outputs": [
    {
     "name": "stdout",
     "output_type": "stream",
     "text": [
      "Fitzgerald The_Great_Gatsby: (413, 11)\n",
      "Fitzgerald TheBeautifulAndDamned_chunkByLength_128: (1074, 11)\n",
      "Fitzgerald ThisSideOfParadise_chunkByLength_128: (703, 11)\n",
      "Fitzgerald FlappersAndPhilosophers_chunkByLength_128: (522, 11)\n",
      "Fitzgerald TalesOfTheJazzAge_chunkByLength_128: (709, 11)\n"
     ]
    }
   ],
   "source": [
    "\n",
    "dirname = '../Dataset_v3/chunks/Fitzgerald/The_Great_Gatsby_chunkByLength_128.csv'\n",
    "Fitzgerald1 = pd.read_csv(dirname)\n",
    "print(\"Fitzgerald The_Great_Gatsby: {0}\".format(Fitzgerald1.shape))\n",
    "\n",
    "dirname = '../Dataset_v3/chunks/Fitzgerald/TheBeautifulAndDamned_chunkByLength_128.csv'\n",
    "Fitzgerald2 = pd.read_csv(dirname)\n",
    "print(\"Fitzgerald TheBeautifulAndDamned_chunkByLength_128: {0}\".format(Fitzgerald2.shape))\n",
    "\n",
    "dirname = '../Dataset_v3/chunks/Fitzgerald/ThisSideOfParadise_chunkByLength_128.csv'\n",
    "Fitzgerald3 = pd.read_csv(dirname)\n",
    "print(\"Fitzgerald ThisSideOfParadise_chunkByLength_128: {0}\".format(Fitzgerald3.shape))\n",
    "\n",
    "dirname = '../Dataset_v3/chunks/Fitzgerald/FlappersAndPhilosophers_chunkByLength_128.csv'\n",
    "Fitzgerald4 = pd.read_csv(dirname)\n",
    "print(\"Fitzgerald FlappersAndPhilosophers_chunkByLength_128: {0}\".format(Fitzgerald4.shape))\n",
    "\n",
    "dirname = '../Dataset_v3/chunks/Fitzgerald/TalesOfTheJazzAge_chunkByLength_128.csv'\n",
    "Fitzgerald5 = pd.read_csv(dirname)\n",
    "print(\"Fitzgerald TalesOfTheJazzAge_chunkByLength_128: {0}\".format(Fitzgerald5.shape))"
   ]
  },
  {
   "cell_type": "code",
   "execution_count": 13,
   "metadata": {},
   "outputs": [
    {
     "name": "stdout",
     "output_type": "stream",
     "text": [
      "Jane Pride_and_Prejudice_Jane_Austen_chunkByLength_128: (1078, 11)\n",
      "Jane Emma_Jane_Austen_chunkByLength_128: (1390, 11)\n",
      "Jane MansfieldPark_chunkByLength_128: (1442, 11)\n",
      "Jane NorthangerAbbey_chunkByLength_128: (693, 11)\n",
      "Jane Persuasion_chunkByLength_128: (746, 11)\n",
      "Jane SenseAndSensibility_chunkByLength_128: (1078, 11)\n"
     ]
    }
   ],
   "source": [
    "\n",
    "dirname = '../Dataset_v3/chunks/Jane/Pride_and_Prejudice_Jane_Austen_chunkByLength_128.csv'\n",
    "Jane1 = pd.read_csv(dirname)\n",
    "print(\"Jane Pride_and_Prejudice_Jane_Austen_chunkByLength_128: {0}\".format(Jane1.shape))\n",
    "\n",
    "dirname = '../Dataset_v3/chunks/Jane/Emma_Jane_Austen_chunkByLength_128.csv'\n",
    "Jane2 = pd.read_csv(dirname)\n",
    "print(\"Jane Emma_Jane_Austen_chunkByLength_128: {0}\".format(Jane2.shape))\n",
    "\n",
    "dirname = '../Dataset_v3/chunks/Jane/MansfieldPark_chunkByLength_128.csv'\n",
    "Jane3 = pd.read_csv(dirname)\n",
    "print(\"Jane MansfieldPark_chunkByLength_128: {0}\".format(Jane3.shape))\n",
    "\n",
    "dirname = '../Dataset_v3/chunks/Jane/NorthangerAbbey_chunkByLength_128.csv'\n",
    "Jane4 = pd.read_csv(dirname)\n",
    "print(\"Jane NorthangerAbbey_chunkByLength_128: {0}\".format(Jane4.shape))\n",
    "\n",
    "dirname = '../Dataset_v3/chunks/Jane/Persuasion_chunkByLength_128.csv'\n",
    "Jane5 = pd.read_csv(dirname)\n",
    "print(\"Jane Persuasion_chunkByLength_128: {0}\".format(Jane5.shape))\n",
    "\n",
    "dirname = '../Dataset_v3/chunks/Jane/SenseAndSensibility_chunkByLength_128.csv'\n",
    "Jane6 = pd.read_csv(dirname)\n",
    "print(\"Jane SenseAndSensibility_chunkByLength_128: {0}\".format(Jane6.shape))\n",
    "\n"
   ]
  },
  {
   "cell_type": "code",
   "execution_count": 14,
   "metadata": {},
   "outputs": [
    {
     "name": "stdout",
     "output_type": "stream",
     "text": [
      "Mark TheAdventuresOfTomSawyer: (604, 11)\n",
      "Mark ThePrinceAndThePauper_chunkByLength_128: (590, 11)\n",
      "Mark AConnecticutYankeeInKingArthursCourt_chunkByLength_128: (1035, 11)\n",
      "Mark LifeOnTheMississippi_chunkByLength_128: (1250, 11)\n",
      "Mark TheMysteriousStranger_chunkByLength_128: (366, 11)\n",
      "Mark TheTragedyOfPuddnheadWilson_chunkByLength_128: (450, 11)\n"
     ]
    }
   ],
   "source": [
    "dirname = '../Dataset_v3/chunks/Mark/TheAdventuresOfTomSawyer_chunkByLength_128.csv'\n",
    "Mark1 = pd.read_csv(dirname)\n",
    "print(\"Mark TheAdventuresOfTomSawyer: {0}\".format(Mark1.shape))\n",
    "\n",
    "dirname = '../Dataset_v3/chunks/Mark/ThePrinceAndThePauper_chunkByLength_128.csv'\n",
    "Mark2 = pd.read_csv(dirname)\n",
    "print(\"Mark ThePrinceAndThePauper_chunkByLength_128: {0}\".format(Mark2.shape))\n",
    "\n",
    "\n",
    "dirname = '../Dataset_v3/chunks/Mark/AConnecticutYankeeInKingArthursCourt_chunkByLength_128.csv'\n",
    "Mark3 = pd.read_csv(dirname)\n",
    "print(\"Mark AConnecticutYankeeInKingArthursCourt_chunkByLength_128: {0}\".format(Mark3.shape))\n",
    "\n",
    "\n",
    "dirname = '../Dataset_v3/chunks/Mark/LifeOnTheMississippi_chunkByLength_128.csv'\n",
    "Mark4 = pd.read_csv(dirname)\n",
    "print(\"Mark LifeOnTheMississippi_chunkByLength_128: {0}\".format(Mark4.shape))\n",
    "\n",
    "dirname = '../Dataset_v3/chunks/Mark/TheMysteriousStranger_chunkByLength_128.csv'\n",
    "Mark5 = pd.read_csv(dirname)\n",
    "print(\"Mark TheMysteriousStranger_chunkByLength_128: {0}\".format(Mark5.shape))\n",
    "\n",
    "dirname = '../Dataset_v3/chunks/Mark/TheTragedyOfPuddnheadWilson_chunkByLength_128.csv'\n",
    "Mark6 = pd.read_csv(dirname)\n",
    "print(\"Mark TheTragedyOfPuddnheadWilson_chunkByLength_128: {0}\".format(Mark6.shape))\n"
   ]
  },
  {
   "cell_type": "code",
   "execution_count": 15,
   "metadata": {},
   "outputs": [
    {
     "name": "stdout",
     "output_type": "stream",
     "text": [
      "Various AlicesAdventuresInWonderlandByLewisCarroll_chunkByLength_128: (230, 11)\n",
      "Various AModestProposalByJonathanSwift_chunkByLength_128: (31, 11)\n",
      "Various FrankensteinOrTheModernPrometheusByMaryWollstonecraftShelley_chunkByLength_128: (660, 11)\n",
      "Various MetamorphosisByFranzKafka_chunkByLength_128: (202, 11)\n",
      "Various MobyDickOrTheWhalebyHermanMelville_chunkByLength_128: (1871, 11)\n",
      "Various TheAdventuresofSherlockHolmesbyArthurConanDoyle_chunkByLength_128: (899, 11)\n",
      "Various TheImportanceOfBeingEarnestATrivialComedyForSeriousPeopleByOscarWilde_chunkByLength_128: (168, 11)\n",
      "Various TheScarletLetterbyNathanielHawthorne_chunkByLength_128: (753, 11)\n",
      "Various TheStrangeCaseofDrJekyllandMrHydebyRobertLouisStevenson_chunkByLength_128: (231, 11)\n",
      "Various TheYellowWallpaperbyCharlottePerkinsGilman_chunkByLength_128: (52, 11)\n"
     ]
    }
   ],
   "source": [
    "dirname = '../Dataset_v3/chunks/Various/AlicesAdventuresInWonderlandByLewisCarroll_chunkByLength_128.csv'\n",
    "Various1 = pd.read_csv(dirname)\n",
    "print(\"Various AlicesAdventuresInWonderlandByLewisCarroll_chunkByLength_128: {0}\".format(Various1.shape))\n",
    "\n",
    "\n",
    "dirname = '../Dataset_v3/chunks/Various/AModestProposalByJonathanSwift_chunkByLength_128.csv'\n",
    "Various2 = pd.read_csv(dirname)\n",
    "print(\"Various AModestProposalByJonathanSwift_chunkByLength_128: {0}\".format(Various2.shape))\n",
    "\n",
    "dirname = '../Dataset_v3/chunks/Various/FrankensteinOrTheModernPrometheusByMaryWollstonecraftShelley_chunkByLength_128.csv'\n",
    "Various3 = pd.read_csv(dirname)\n",
    "print(\"Various FrankensteinOrTheModernPrometheusByMaryWollstonecraftShelley_chunkByLength_128: {0}\".format(Various3.shape))\n",
    "\n",
    "dirname = '../Dataset_v3/chunks/Various/MetamorphosisByFranzKafka_chunkByLength_128.csv'\n",
    "Various4 = pd.read_csv(dirname)\n",
    "print(\"Various MetamorphosisByFranzKafka_chunkByLength_128: {0}\".format(Various4.shape))\n",
    "\n",
    "dirname = '../Dataset_v3/chunks/Various/MobyDickOrTheWhalebyHermanMelville_chunkByLength_128.csv'\n",
    "Various5 = pd.read_csv(dirname)\n",
    "print(\"Various MobyDickOrTheWhalebyHermanMelville_chunkByLength_128: {0}\".format(Various5.shape))\n",
    "\n",
    "dirname = '../Dataset_v3/chunks/Various/TheAdventuresofSherlockHolmesbyArthurConanDoyle_chunkByLength_128.csv'\n",
    "Various6 = pd.read_csv(dirname)\n",
    "print(\"Various TheAdventuresofSherlockHolmesbyArthurConanDoyle_chunkByLength_128: {0}\".format(Various6.shape))\n",
    "\n",
    "dirname = '../Dataset_v3/chunks/Various/TheImportanceOfBeingEarnestATrivialComedyForSeriousPeopleByOscarWilde_chunkByLength_128.csv'\n",
    "Various7 = pd.read_csv(dirname)\n",
    "print(\"Various TheImportanceOfBeingEarnestATrivialComedyForSeriousPeopleByOscarWilde_chunkByLength_128: {0}\".format(Various7.shape))\n",
    "\n",
    "\n",
    "dirname = '../Dataset_v3/chunks/Various/TheScarletLetterbyNathanielHawthorne_chunkByLength_128.csv'\n",
    "Various8 = pd.read_csv(dirname)\n",
    "print(\"Various TheScarletLetterbyNathanielHawthorne_chunkByLength_128: {0}\".format(Various8.shape))\n",
    "\n",
    "dirname = '../Dataset_v3/chunks/Various/TheStrangeCaseofDrJekyllandMrHydebyRobertLouisStevenson_chunkByLength_128.csv'\n",
    "Various9 = pd.read_csv(dirname)\n",
    "print(\"Various TheStrangeCaseofDrJekyllandMrHydebyRobertLouisStevenson_chunkByLength_128: {0}\".format(Various9.shape))\n",
    "\n",
    "dirname = '../Dataset_v3/chunks/Various/TheYellowWallpaperbyCharlottePerkinsGilman_chunkByLength_128.csv'\n",
    "Various10 = pd.read_csv(dirname)\n",
    "print(\"Various TheYellowWallpaperbyCharlottePerkinsGilman_chunkByLength_128: {0}\".format(Various10.shape))\n",
    "\n"
   ]
  },
  {
   "cell_type": "code",
   "execution_count": 16,
   "metadata": {},
   "outputs": [],
   "source": [
    "charleslist = [charles1, charles2, charles3, charles4, charles5, charles6, charles7,\n",
    "              charles8, charles9, charles10, charles11,charles12,charles13,charles14]\n",
    "marklist = [Mark1, Mark2, Mark3, Mark4, Mark5, Mark6]\n",
    "variouslsit = [Various1, Various2, Various3, Various4, Various5, Various6, Various7, Various8,\n",
    "              Various9, Various10]\n",
    "janelist = [Jane1, Jane2, Jane3, Jane4, Jane5, Jane6]\n",
    "fitzgeraldlist = [Fitzgerald1, Fitzgerald2, Fitzgerald3, Fitzgerald4,Fitzgerald5]"
   ]
  },
  {
   "cell_type": "code",
   "execution_count": 21,
   "metadata": {},
   "outputs": [
    {
     "data": {
      "text/plain": [
       "6427"
      ]
     },
     "execution_count": 21,
     "metadata": {},
     "output_type": "execute_result"
    }
   ],
   "source": [
    "# 30269 Charles Dickens \n",
    "# 4295 Mark Twain\n",
    "# 5097 various \n",
    "# 6427 Jane Austen\n",
    "# 3421 Fitzgerald\n",
    "\n",
    "totcount = 0\n",
    "for df in janelist:\n",
    "    totcount += df.shape[0]\n",
    "totcount"
   ]
  },
  {
   "cell_type": "markdown",
   "metadata": {},
   "source": [
    "* Mark Twain: Mark + Various\n",
    "* Fitzgerald: Fitzgerald + Various \n",
    "* Charles: Charles + all "
   ]
  },
  {
   "cell_type": "code",
   "execution_count": 28,
   "metadata": {},
   "outputs": [
    {
     "name": "stdout",
     "output_type": "stream",
     "text": [
      "49509\n"
     ]
    },
    {
     "data": {
      "text/plain": [
       "count     49509\n",
       "unique        2\n",
       "top           1\n",
       "freq      30269\n",
       "Name: Label, dtype: object"
      ]
     },
     "execution_count": 28,
     "metadata": {},
     "output_type": "execute_result"
    }
   ],
   "source": [
    "df_charles = pd.concat(charleslist,ignore_index=True)\n",
    "df_charles['Label'] = \"1\"\n",
    "df_charles = df_charles[['Text','Label']]\n",
    "\n",
    "df_others = pd.concat(marklist +variouslsit+ janelist +fitzgeraldlist,ignore_index=True)\n",
    "df_others['Label'] = \"0\"\n",
    "df_others = df_others[['Text','Label']]\n",
    "\n",
    "df_charles_f = pd.concat([df_charles,df_others],ignore_index=True)\n",
    "print(df_charles_f.shape[0])\n",
    "df_charles_f.Label.describe()"
   ]
  },
  {
   "cell_type": "code",
   "execution_count": 29,
   "metadata": {},
   "outputs": [
    {
     "name": "stdout",
     "output_type": "stream",
     "text": [
      "9392\n"
     ]
    },
    {
     "data": {
      "text/plain": [
       "count     9392\n",
       "unique       2\n",
       "top          0\n",
       "freq      5097\n",
       "Name: Label, dtype: object"
      ]
     },
     "execution_count": 29,
     "metadata": {},
     "output_type": "execute_result"
    }
   ],
   "source": [
    "df_mark = pd.concat(marklist,ignore_index=True)\n",
    "df_mark['Label'] = \"1\"\n",
    "df_mark = df_mark[['Text','Label']]\n",
    "\n",
    "df_others = pd.concat(variouslsit,ignore_index=True)\n",
    "df_others['Label'] = \"0\"\n",
    "df_others = df_others[['Text','Label']]\n",
    "\n",
    "df_mark_f = pd.concat([df_mark,df_others],ignore_index=True)\n",
    "print(df_mark_f.shape[0])\n",
    "df_mark_f.Label.describe()"
   ]
  },
  {
   "cell_type": "code",
   "execution_count": 30,
   "metadata": {},
   "outputs": [
    {
     "name": "stdout",
     "output_type": "stream",
     "text": [
      "8518\n"
     ]
    },
    {
     "data": {
      "text/plain": [
       "count     8518\n",
       "unique       2\n",
       "top          0\n",
       "freq      5097\n",
       "Name: Label, dtype: object"
      ]
     },
     "execution_count": 30,
     "metadata": {},
     "output_type": "execute_result"
    }
   ],
   "source": [
    "df_fitzgerald = pd.concat(fitzgeraldlist,ignore_index=True)\n",
    "df_fitzgerald['Label'] = \"1\"\n",
    "df_fitzgerald = df_fitzgerald[['Text','Label']]\n",
    "\n",
    "df_others = pd.concat(variouslsit,ignore_index=True)\n",
    "df_others['Label'] = \"0\"\n",
    "df_others = df_others[['Text','Label']]\n",
    "\n",
    "df_fitzgerald_f = pd.concat([df_fitzgerald,df_others],ignore_index=True)\n",
    "print(df_fitzgerald_f.shape[0])\n",
    "df_fitzgerald_f.Label.describe()"
   ]
  },
  {
   "cell_type": "code",
   "execution_count": 31,
   "metadata": {},
   "outputs": [],
   "source": [
    "# apply on the df['Text']\n",
    "# retain all columns and add addtional columns spacy_words\n",
    "def NER_replace(df):\n",
    "    df['spacy_words'] = df['Text'].apply(lambda x: list(nlp(x).ents))\n",
    "    for index, row in df.iterrows():\n",
    "        thistext = row.Text\n",
    "        for ent in row.spacy_words:\n",
    "            if ent.label_ in ['PERSON','FAC','GPE','LOC','ORG']:\n",
    "                thistext = thistext.replace(ent.text,ent.label_)\n",
    "        df.at[index, 'Text'] = thistext\n",
    "    return df"
   ]
  },
  {
   "cell_type": "code",
   "execution_count": 32,
   "metadata": {},
   "outputs": [],
   "source": [
    "df_fitzgerald_f = NER_replace(df_fitzgerald_f)"
   ]
  },
  {
   "cell_type": "code",
   "execution_count": 41,
   "metadata": {},
   "outputs": [],
   "source": [
    "df_mark_f = NER_replace(df_mark_f)\n",
    "df_charles_f = NER_replace(df_charles_f)"
   ]
  },
  {
   "cell_type": "code",
   "execution_count": 39,
   "metadata": {},
   "outputs": [
    {
     "data": {
      "text/plain": [
       "'Only PERSON, the man who gives his name to this book, was exempt from my reaction—PERSON, who represented everything for which I have an unaffected scorn. If personality is an unbroken series of successful gestures, then there was something gorgeous about him, some heightened sensitivity to the promises of life, as if he were related to one of those intricate machines that register earthquakes ten thousand miles away. This responsiveness had nothing to do with that flabby impressionability which is dignified under the name of the creative temperament—it was an extraordinary gift for hope, a romantic readiness such as I have never found in any other person and which it is not likely I shall ever find again.'"
      ]
     },
     "execution_count": 39,
     "metadata": {},
     "output_type": "execute_result"
    }
   ],
   "source": [
    "df_fitzgerald_f.Text[3]"
   ]
  },
  {
   "cell_type": "code",
   "execution_count": 38,
   "metadata": {},
   "outputs": [
    {
     "name": "stdout",
     "output_type": "stream",
     "text": [
      "Gatsby 5 11 PERSON\n",
      "Gatsby 82 88 PERSON\n"
     ]
    }
   ],
   "source": [
    "for ent in df_fitzgerald_f.spacy_words[3]:\n",
    "    if ent.label_ in ['PERSON','FAC','GPE','LOC','ORG']:\n",
    "        print(ent.text, ent.start_char, ent.end_char,\n",
    "          ent.label_)"
   ]
  },
  {
   "cell_type": "code",
   "execution_count": 40,
   "metadata": {},
   "outputs": [],
   "source": [
    "df_fitzgerald_f.to_csv(\"../Dataset_v3/deidentified/Fitzgerald_128_di.csv\")\n"
   ]
  },
  {
   "cell_type": "code",
   "execution_count": 42,
   "metadata": {},
   "outputs": [],
   "source": [
    "df_mark_f.to_csv(\"../Dataset_v3/deidentified/Mark_128_di.csv\")\n",
    "df_charles_f.to_csv(\"../Dataset_v3/deidentified/Charles_128_di.csv\")\n"
   ]
  },
  {
   "cell_type": "code",
   "execution_count": null,
   "metadata": {},
   "outputs": [],
   "source": []
  }
 ],
 "metadata": {
  "kernelspec": {
   "display_name": "Python 3",
   "language": "python",
   "name": "python3"
  },
  "language_info": {
   "codemirror_mode": {
    "name": "ipython",
    "version": 3
   },
   "file_extension": ".py",
   "mimetype": "text/x-python",
   "name": "python",
   "nbconvert_exporter": "python",
   "pygments_lexer": "ipython3",
   "version": "3.8.3"
  }
 },
 "nbformat": 4,
 "nbformat_minor": 4
}
