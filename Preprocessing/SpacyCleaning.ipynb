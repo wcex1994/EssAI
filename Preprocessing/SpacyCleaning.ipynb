{
 "cells": [
  {
   "cell_type": "code",
   "execution_count": 3,
   "metadata": {},
   "outputs": [],
   "source": [
    "import torch\n",
    "import pickle\n",
    "import json\n",
    "import pandas as pd\n",
    "import numpy as np\n",
    "from sklearn.metrics import classification_report, accuracy_score\n",
    "from sklearn.preprocessing import LabelEncoder\n",
    "from sklearn.model_selection import train_test_split\n",
    "import torch.nn as nn\n",
    "from matplotlib import pyplot as plt\n",
    "import spacy\n",
    "import re"
   ]
  },
  {
   "cell_type": "code",
   "execution_count": 4,
   "metadata": {},
   "outputs": [],
   "source": [
    "nlp = spacy.load(\"en_core_web_sm\")"
   ]
  },
  {
   "cell_type": "code",
   "execution_count": 5,
   "metadata": {},
   "outputs": [
    {
     "name": "stdout",
     "output_type": "stream",
     "text": [
      "Charles ATaleOfTwoCities_chunkByLength_256: (563, 11) \n",
      "charles BarnabyRudge_chunkByLength_256: (1068, 11)\n",
      "charles DavidCopperfield_chunkByLength_256: (1475, 11)\n",
      "charles DombeyAndSon_chunkByLength_256: (1492, 11)\n",
      "charles GreatExpectations_chunkByLength_256: (772, 11)\n",
      "charles LittleDorrit_chunkByLength_256: (1410, 11)\n",
      "charles OliverTwist_chunkByLength_256: (657, 11)\n",
      "charles OurMutualFriend_chunkByLength_256: (1344, 11)\n",
      "charles TheChimes_chunkByLength_256: (128, 11)\n",
      "charles TheLifeAndAdventuresOfMartinChuzzlewit_chunkByLength_256: (1407, 11)\n",
      "charles TheLifeAndAdventuresOfNicholasNickleby_chunkByLength_256: (1357, 11)\n",
      "charles TheMysteryOfEdwinDrood_chunkByLength_256: (398, 11)\n",
      "charles TheOldCuriosityShop_chunkByLength_256: (920, 11)\n",
      "charles ThePickwickPapers_chunkByLength_256: (1249, 11)\n"
     ]
    }
   ],
   "source": [
    "dirname = '../Dataset_v3/chunks/CharlesDickens/ATaleOfTwoCities_chunkByLength_256.csv'\n",
    "charles1 = pd.read_csv(dirname)\n",
    "print(\"Charles ATaleOfTwoCities_chunkByLength_256: {0} \".format(charles1.shape))\n",
    "\n",
    "dirname = '../Dataset_v3/chunks/CharlesDickens/BarnabyRudge_chunkByLength_256.csv'\n",
    "charles2 = pd.read_csv(dirname)\n",
    "print(\"charles BarnabyRudge_chunkByLength_256: {0}\" .format(charles2.shape))\n",
    "\n",
    "dirname = '../Dataset_v3/chunks/CharlesDickens/DavidCopperfield_chunkByLength_256.csv'\n",
    "charles3 = pd.read_csv(dirname)\n",
    "print(\"charles DavidCopperfield_chunkByLength_256: {0}\" .format(charles3.shape))\n",
    "\n",
    "dirname = '../Dataset_v3/chunks/CharlesDickens/DombeyAndSon_chunkByLength_256.csv'\n",
    "charles4 = pd.read_csv(dirname)\n",
    "print(\"charles DombeyAndSon_chunkByLength_256: {0}\" .format(charles4.shape))\n",
    "\n",
    "dirname = '../Dataset_v3/chunks/CharlesDickens/GreatExpectations_chunkByLength_256.csv'\n",
    "charles5 = pd.read_csv(dirname)\n",
    "print(\"charles GreatExpectations_chunkByLength_256: {0}\" .format(charles5.shape))\n",
    "\n",
    "dirname = '../Dataset_v3/chunks/CharlesDickens/LittleDorrit_chunkByLength_256.csv'\n",
    "charles6 = pd.read_csv(dirname)\n",
    "print(\"charles LittleDorrit_chunkByLength_256: {0}\" .format(charles6.shape))\n",
    "\n",
    "dirname = '../Dataset_v3/chunks/CharlesDickens/OliverTwist_chunkByLength_256.csv'\n",
    "charles7 = pd.read_csv(dirname)\n",
    "print(\"charles OliverTwist_chunkByLength_256: {0}\" .format(charles7.shape))\n",
    "\n",
    "dirname = '../Dataset_v3/chunks/CharlesDickens/OurMutualFriend_chunkByLength_256.csv'\n",
    "charles8 = pd.read_csv(dirname)\n",
    "print(\"charles OurMutualFriend_chunkByLength_256: {0}\" .format(charles8.shape))\n",
    "\n",
    "dirname = '../Dataset_v3/chunks/CharlesDickens/TheChimes_chunkByLength_256.csv'\n",
    "charles9 = pd.read_csv(dirname)\n",
    "print(\"charles TheChimes_chunkByLength_256: {0}\" .format(charles9.shape))\n",
    "\n",
    "dirname = '../Dataset_v3/chunks/CharlesDickens/TheLifeAndAdventuresOfMartinChuzzlewit_chunkByLength_256.csv'\n",
    "charles10 = pd.read_csv(dirname)\n",
    "print(\"charles TheLifeAndAdventuresOfMartinChuzzlewit_chunkByLength_256: {0}\" .format(charles10.shape))\n",
    "\n",
    "dirname = '../Dataset_v3/chunks/CharlesDickens/TheLifeAndAdventuresOfNicholasNickleby_chunkByLength_256.csv'\n",
    "charles11 = pd.read_csv(dirname)\n",
    "print(\"charles TheLifeAndAdventuresOfNicholasNickleby_chunkByLength_256: {0}\" .format(charles11.shape))\n",
    "\n",
    "dirname = '../Dataset_v3/chunks/CharlesDickens/TheMysteryOfEdwinDrood_chunkByLength_256.csv'\n",
    "charles12 = pd.read_csv(dirname)\n",
    "print(\"charles TheMysteryOfEdwinDrood_chunkByLength_256: {0}\" .format(charles12.shape))\n",
    "\n",
    "dirname = '../Dataset_v3/chunks/CharlesDickens/TheOldCuriosityShop_chunkByLength_256.csv'\n",
    "charles13 = pd.read_csv(dirname)\n",
    "print(\"charles TheOldCuriosityShop_chunkByLength_256: {0}\" .format(charles13.shape))\n",
    "\n",
    "dirname = '../Dataset_v3/chunks/CharlesDickens/ThePickwickPapers_chunkByLength_256.csv'\n",
    "charles14 = pd.read_csv(dirname)\n",
    "print(\"charles ThePickwickPapers_chunkByLength_256: {0}\" .format(charles14.shape))\n"
   ]
  },
  {
   "cell_type": "code",
   "execution_count": 6,
   "metadata": {},
   "outputs": [
    {
     "name": "stdout",
     "output_type": "stream",
     "text": [
      "Fitzgerald The_Great_Gatsby: (197, 11)\n",
      "Fitzgerald TheBeautifulAndDamned_chunkByLength_256: (507, 11)\n",
      "Fitzgerald ThisSideOfParadise_chunkByLength_256: (331, 11)\n",
      "Fitzgerald FlappersAndPhilosophers_chunkByLength_256: (249, 11)\n",
      "Fitzgerald TalesOfTheJazzAge_chunkByLength_256: (341, 11)\n"
     ]
    }
   ],
   "source": [
    "\n",
    "dirname = '../Dataset_v3/chunks/Fitzgerald/The_Great_Gatsby_chunkByLength_256.csv'\n",
    "Fitzgerald1 = pd.read_csv(dirname)\n",
    "print(\"Fitzgerald The_Great_Gatsby: {0}\".format(Fitzgerald1.shape))\n",
    "\n",
    "dirname = '../Dataset_v3/chunks/Fitzgerald/TheBeautifulAndDamned_chunkByLength_256.csv'\n",
    "Fitzgerald2 = pd.read_csv(dirname)\n",
    "print(\"Fitzgerald TheBeautifulAndDamned_chunkByLength_256: {0}\".format(Fitzgerald2.shape))\n",
    "\n",
    "dirname = '../Dataset_v3/chunks/Fitzgerald/ThisSideOfParadise_chunkByLength_256.csv'\n",
    "Fitzgerald3 = pd.read_csv(dirname)\n",
    "print(\"Fitzgerald ThisSideOfParadise_chunkByLength_256: {0}\".format(Fitzgerald3.shape))\n",
    "\n",
    "dirname = '../Dataset_v3/chunks/Fitzgerald/FlappersAndPhilosophers_chunkByLength_256.csv'\n",
    "Fitzgerald4 = pd.read_csv(dirname)\n",
    "print(\"Fitzgerald FlappersAndPhilosophers_chunkByLength_256: {0}\".format(Fitzgerald4.shape))\n",
    "\n",
    "dirname = '../Dataset_v3/chunks/Fitzgerald/TalesOfTheJazzAge_chunkByLength_256.csv'\n",
    "Fitzgerald5 = pd.read_csv(dirname)\n",
    "print(\"Fitzgerald TalesOfTheJazzAge_chunkByLength_256: {0}\".format(Fitzgerald5.shape))"
   ]
  },
  {
   "cell_type": "code",
   "execution_count": 7,
   "metadata": {},
   "outputs": [
    {
     "name": "stdout",
     "output_type": "stream",
     "text": [
      "Jane Pride_and_Prejudice_Jane_Austen_chunkByLength_256: (506, 11)\n",
      "Jane Emma_Jane_Austen_chunkByLength_256: (668, 11)\n",
      "Jane MansfieldPark_chunkByLength_256: (679, 11)\n",
      "Jane NorthangerAbbey_chunkByLength_256: (325, 11)\n",
      "Jane Persuasion_chunkByLength_256: (352, 11)\n",
      "Jane SenseAndSensibility_chunkByLength_256: (503, 11)\n"
     ]
    }
   ],
   "source": [
    "\n",
    "dirname = '../Dataset_v3/chunks/Jane/Pride_and_Prejudice_Jane_Austen_chunkByLength_256.csv'\n",
    "Jane1 = pd.read_csv(dirname)\n",
    "print(\"Jane Pride_and_Prejudice_Jane_Austen_chunkByLength_256: {0}\".format(Jane1.shape))\n",
    "\n",
    "dirname = '../Dataset_v3/chunks/Jane/Emma_Jane_Austen_chunkByLength_256.csv'\n",
    "Jane2 = pd.read_csv(dirname)\n",
    "print(\"Jane Emma_Jane_Austen_chunkByLength_256: {0}\".format(Jane2.shape))\n",
    "\n",
    "dirname = '../Dataset_v3/chunks/Jane/MansfieldPark_chunkByLength_256.csv'\n",
    "Jane3 = pd.read_csv(dirname)\n",
    "print(\"Jane MansfieldPark_chunkByLength_256: {0}\".format(Jane3.shape))\n",
    "\n",
    "dirname = '../Dataset_v3/chunks/Jane/NorthangerAbbey_chunkByLength_256.csv'\n",
    "Jane4 = pd.read_csv(dirname)\n",
    "print(\"Jane NorthangerAbbey_chunkByLength_256: {0}\".format(Jane4.shape))\n",
    "\n",
    "dirname = '../Dataset_v3/chunks/Jane/Persuasion_chunkByLength_256.csv'\n",
    "Jane5 = pd.read_csv(dirname)\n",
    "print(\"Jane Persuasion_chunkByLength_256: {0}\".format(Jane5.shape))\n",
    "\n",
    "dirname = '../Dataset_v3/chunks/Jane/SenseAndSensibility_chunkByLength_256.csv'\n",
    "Jane6 = pd.read_csv(dirname)\n",
    "print(\"Jane SenseAndSensibility_chunkByLength_256: {0}\".format(Jane6.shape))\n",
    "\n"
   ]
  },
  {
   "cell_type": "code",
   "execution_count": 8,
   "metadata": {},
   "outputs": [
    {
     "name": "stdout",
     "output_type": "stream",
     "text": [
      "Mark TheAdventuresOfTomSawyer: (288, 11)\n",
      "Mark ThePrinceAndThePauper_chunkByLength_256: (280, 11)\n",
      "Mark AConnecticutYankeeInKingArthursCourt_chunkByLength_256: (488, 11)\n",
      "Mark LifeOnTheMississippi_chunkByLength_256: (599, 11)\n",
      "Mark TheMysteriousStranger_chunkByLength_256: (174, 11)\n",
      "Mark TheTragedyOfPuddnheadWilson_chunkByLength_256: (214, 11)\n"
     ]
    }
   ],
   "source": [
    "dirname = '../Dataset_v3/chunks/Mark/TheAdventuresOfTomSawyer_chunkByLength_256.csv'\n",
    "Mark1 = pd.read_csv(dirname)\n",
    "print(\"Mark TheAdventuresOfTomSawyer: {0}\".format(Mark1.shape))\n",
    "\n",
    "dirname = '../Dataset_v3/chunks/Mark/ThePrinceAndThePauper_chunkByLength_256.csv'\n",
    "Mark2 = pd.read_csv(dirname)\n",
    "print(\"Mark ThePrinceAndThePauper_chunkByLength_256: {0}\".format(Mark2.shape))\n",
    "\n",
    "\n",
    "dirname = '../Dataset_v3/chunks/Mark/AConnecticutYankeeInKingArthursCourt_chunkByLength_256.csv'\n",
    "Mark3 = pd.read_csv(dirname)\n",
    "print(\"Mark AConnecticutYankeeInKingArthursCourt_chunkByLength_256: {0}\".format(Mark3.shape))\n",
    "\n",
    "\n",
    "dirname = '../Dataset_v3/chunks/Mark/LifeOnTheMississippi_chunkByLength_256.csv'\n",
    "Mark4 = pd.read_csv(dirname)\n",
    "print(\"Mark LifeOnTheMississippi_chunkByLength_256: {0}\".format(Mark4.shape))\n",
    "\n",
    "dirname = '../Dataset_v3/chunks/Mark/TheMysteriousStranger_chunkByLength_256.csv'\n",
    "Mark5 = pd.read_csv(dirname)\n",
    "print(\"Mark TheMysteriousStranger_chunkByLength_256: {0}\".format(Mark5.shape))\n",
    "\n",
    "dirname = '../Dataset_v3/chunks/Mark/TheTragedyOfPuddnheadWilson_chunkByLength_256.csv'\n",
    "Mark6 = pd.read_csv(dirname)\n",
    "print(\"Mark TheTragedyOfPuddnheadWilson_chunkByLength_256: {0}\".format(Mark6.shape))\n"
   ]
  },
  {
   "cell_type": "code",
   "execution_count": 9,
   "metadata": {},
   "outputs": [
    {
     "name": "stdout",
     "output_type": "stream",
     "text": [
      "Various AlicesAdventuresInWonderlandByLewisCarroll_chunkByLength_256: (111, 11)\n",
      "Various AModestProposalByJonathanSwift_chunkByLength_256: (15, 11)\n",
      "Various FrankensteinOrTheModernPrometheusByMaryWollstonecraftShelley_chunkByLength_256: (312, 11)\n",
      "Various MetamorphosisByFranzKafka_chunkByLength_256: (94, 11)\n",
      "Various MobyDickOrTheWhalebyHermanMelville_chunkByLength_256: (879, 11)\n",
      "Various TheAdventuresofSherlockHolmesbyArthurConanDoyle_chunkByLength_256: (429, 11)\n",
      "Various TheImportanceOfBeingEarnestATrivialComedyForSeriousPeopleByOscarWilde_chunkByLength_256: (83, 11)\n",
      "Various TheScarletLetterbyNathanielHawthorne_chunkByLength_256: (349, 11)\n",
      "Various TheStrangeCaseofDrJekyllandMrHydebyRobertLouisStevenson_chunkByLength_256: (108, 11)\n",
      "Various TheYellowWallpaperbyCharlottePerkinsGilman_chunkByLength_256: (25, 11)\n"
     ]
    }
   ],
   "source": [
    "dirname = '../Dataset_v3/chunks/Various/AlicesAdventuresInWonderlandByLewisCarroll_chunkByLength_256.csv'\n",
    "Various1 = pd.read_csv(dirname)\n",
    "print(\"Various AlicesAdventuresInWonderlandByLewisCarroll_chunkByLength_256: {0}\".format(Various1.shape))\n",
    "\n",
    "\n",
    "dirname = '../Dataset_v3/chunks/Various/AModestProposalByJonathanSwift_chunkByLength_256.csv'\n",
    "Various2 = pd.read_csv(dirname)\n",
    "print(\"Various AModestProposalByJonathanSwift_chunkByLength_256: {0}\".format(Various2.shape))\n",
    "\n",
    "dirname = '../Dataset_v3/chunks/Various/FrankensteinOrTheModernPrometheusByMaryWollstonecraftShelley_chunkByLength_256.csv'\n",
    "Various3 = pd.read_csv(dirname)\n",
    "print(\"Various FrankensteinOrTheModernPrometheusByMaryWollstonecraftShelley_chunkByLength_256: {0}\".format(Various3.shape))\n",
    "\n",
    "dirname = '../Dataset_v3/chunks/Various/MetamorphosisByFranzKafka_chunkByLength_256.csv'\n",
    "Various4 = pd.read_csv(dirname)\n",
    "print(\"Various MetamorphosisByFranzKafka_chunkByLength_256: {0}\".format(Various4.shape))\n",
    "\n",
    "dirname = '../Dataset_v3/chunks/Various/MobyDickOrTheWhalebyHermanMelville_chunkByLength_256.csv'\n",
    "Various5 = pd.read_csv(dirname)\n",
    "print(\"Various MobyDickOrTheWhalebyHermanMelville_chunkByLength_256: {0}\".format(Various5.shape))\n",
    "\n",
    "dirname = '../Dataset_v3/chunks/Various/TheAdventuresofSherlockHolmesbyArthurConanDoyle_chunkByLength_256.csv'\n",
    "Various6 = pd.read_csv(dirname)\n",
    "print(\"Various TheAdventuresofSherlockHolmesbyArthurConanDoyle_chunkByLength_256: {0}\".format(Various6.shape))\n",
    "\n",
    "dirname = '../Dataset_v3/chunks/Various/TheImportanceOfBeingEarnestATrivialComedyForSeriousPeopleByOscarWilde_chunkByLength_256.csv'\n",
    "Various7 = pd.read_csv(dirname)\n",
    "print(\"Various TheImportanceOfBeingEarnestATrivialComedyForSeriousPeopleByOscarWilde_chunkByLength_256: {0}\".format(Various7.shape))\n",
    "\n",
    "\n",
    "dirname = '../Dataset_v3/chunks/Various/TheScarletLetterbyNathanielHawthorne_chunkByLength_256.csv'\n",
    "Various8 = pd.read_csv(dirname)\n",
    "print(\"Various TheScarletLetterbyNathanielHawthorne_chunkByLength_256: {0}\".format(Various8.shape))\n",
    "\n",
    "dirname = '../Dataset_v3/chunks/Various/TheStrangeCaseofDrJekyllandMrHydebyRobertLouisStevenson_chunkByLength_256.csv'\n",
    "Various9 = pd.read_csv(dirname)\n",
    "print(\"Various TheStrangeCaseofDrJekyllandMrHydebyRobertLouisStevenson_chunkByLength_256: {0}\".format(Various9.shape))\n",
    "\n",
    "dirname = '../Dataset_v3/chunks/Various/TheYellowWallpaperbyCharlottePerkinsGilman_chunkByLength_256.csv'\n",
    "Various10 = pd.read_csv(dirname)\n",
    "print(\"Various TheYellowWallpaperbyCharlottePerkinsGilman_chunkByLength_256: {0}\".format(Various10.shape))\n",
    "\n"
   ]
  },
  {
   "cell_type": "code",
   "execution_count": 10,
   "metadata": {},
   "outputs": [],
   "source": [
    "charleslist = [charles1, charles2, charles3, charles4, charles5, charles6, charles7,\n",
    "              charles8, charles9, charles10, charles11,charles12,charles13,charles14]\n",
    "marklist = [Mark1, Mark2, Mark3, Mark4, Mark5, Mark6]\n",
    "variouslsit = [Various1, Various2, Various3, Various4, Various5, Various6, Various7, Various8,\n",
    "              Various9, Various10]\n",
    "janelist = [Jane1, Jane2, Jane3, Jane4, Jane5, Jane6]\n",
    "fitzgeraldlist = [Fitzgerald1, Fitzgerald2, Fitzgerald3, Fitzgerald4,Fitzgerald5]"
   ]
  },
  {
   "cell_type": "code",
   "execution_count": 16,
   "metadata": {},
   "outputs": [
    {
     "data": {
      "text/plain": [
       "1625"
      ]
     },
     "execution_count": 16,
     "metadata": {},
     "output_type": "execute_result"
    }
   ],
   "source": [
    "# 14240 Charles Dickens \n",
    "# 2043 Mark Twain\n",
    "# 2405 various /blog\n",
    "# 3033 Jane Austen\n",
    "# 1625 Fitzgerald\n",
    "\n",
    "totcount = 0\n",
    "for df in fitzgeraldlist:\n",
    "    totcount += df.shape[0]\n",
    "totcount"
   ]
  },
  {
   "cell_type": "markdown",
   "metadata": {},
   "source": [
    "* Mark Twain: Mark + Various\n",
    "* Fitzgerald: Fitzgerald + Various \n",
    "* Charles: Charles + all "
   ]
  },
  {
   "cell_type": "code",
   "execution_count": 49,
   "metadata": {},
   "outputs": [
    {
     "name": "stdout",
     "output_type": "stream",
     "text": [
      "23346\n"
     ]
    },
    {
     "data": {
      "text/plain": [
       "count     23346\n",
       "unique        2\n",
       "top           1\n",
       "freq      14240\n",
       "Name: Label, dtype: object"
      ]
     },
     "execution_count": 49,
     "metadata": {},
     "output_type": "execute_result"
    }
   ],
   "source": [
    "df_charles = pd.concat(charleslist,ignore_index=True)\n",
    "df_charles['Label'] = \"1\"\n",
    "df_charles = df_charles[['Text','Label']]\n",
    "\n",
    "df_others = pd.concat(marklist +variouslsit+ janelist +fitzgeraldlist,ignore_index=True)\n",
    "df_others['Label'] = \"0\"\n",
    "df_others = df_others[['Text','Label']]\n",
    "\n",
    "df_charles_f = pd.concat([df_charles,df_others],ignore_index=True)\n",
    "print(df_charles_f.shape[0])\n",
    "df_charles_f.Label.describe()"
   ]
  },
  {
   "cell_type": "code",
   "execution_count": 50,
   "metadata": {},
   "outputs": [
    {
     "name": "stdout",
     "output_type": "stream",
     "text": [
      "4448\n"
     ]
    },
    {
     "data": {
      "text/plain": [
       "count     4448\n",
       "unique       2\n",
       "top          0\n",
       "freq      2405\n",
       "Name: Label, dtype: object"
      ]
     },
     "execution_count": 50,
     "metadata": {},
     "output_type": "execute_result"
    }
   ],
   "source": [
    "df_mark = pd.concat(marklist,ignore_index=True)\n",
    "df_mark['Label'] = \"1\"\n",
    "df_mark = df_mark[['Text','Label']]\n",
    "\n",
    "df_others = pd.concat(variouslsit,ignore_index=True)\n",
    "df_others['Label'] = \"0\"\n",
    "df_others = df_others[['Text','Label']]\n",
    "\n",
    "df_mark_f = pd.concat([df_mark,df_others],ignore_index=True)\n",
    "print(df_mark_f.shape[0])\n",
    "df_mark_f.Label.describe()"
   ]
  },
  {
   "cell_type": "code",
   "execution_count": 39,
   "metadata": {},
   "outputs": [
    {
     "name": "stdout",
     "output_type": "stream",
     "text": [
      "4030\n"
     ]
    },
    {
     "data": {
      "text/plain": [
       "count     4030\n",
       "unique       2\n",
       "top          0\n",
       "freq      2405\n",
       "Name: Label, dtype: object"
      ]
     },
     "execution_count": 39,
     "metadata": {},
     "output_type": "execute_result"
    }
   ],
   "source": [
    "df_fitzgerald = pd.concat(fitzgeraldlist,ignore_index=True)\n",
    "df_fitzgerald['Label'] = \"1\"\n",
    "df_fitzgerald = df_fitzgerald[['Text','Label']]\n",
    "\n",
    "df_others = pd.concat(variouslsit,ignore_index=True)\n",
    "df_others['Label'] = \"0\"\n",
    "df_others = df_others[['Text','Label']]\n",
    "\n",
    "df_fitzgerald_f = pd.concat([df_fitzgerald,df_others],ignore_index=True)\n",
    "print(df_fitzgerald_f.shape[0])\n",
    "df_fitzgerald_f.Label.describe()"
   ]
  },
  {
   "cell_type": "code",
   "execution_count": 40,
   "metadata": {},
   "outputs": [],
   "source": [
    "# apply on the df['Text']\n",
    "# retain all columns and add addtional columns spacy_words\n",
    "def NER_replace(df):\n",
    "    df['spacy_words'] = df['Text'].apply(lambda x: list(nlp(x).ents))\n",
    "    for index, row in df.iterrows():\n",
    "        thistext = row.Text\n",
    "        for ent in row.spacy_words:\n",
    "            if ent.label_ in ['PERSON','FAC','GPE','LOC','ORG']:\n",
    "                thistext = thistext.replace(ent.text,ent.label_)\n",
    "        df.at[index, 'Text'] = thistext\n",
    "    return df"
   ]
  },
  {
   "cell_type": "code",
   "execution_count": 41,
   "metadata": {},
   "outputs": [],
   "source": [
    "df_fitzgerald_f = NER_replace(df_fitzgerald_f)"
   ]
  },
  {
   "cell_type": "code",
   "execution_count": 51,
   "metadata": {},
   "outputs": [],
   "source": [
    "df_mark_f = NER_replace(df_mark_f)\n",
    "df_charles_f = NER_replace(df_charles_f)"
   ]
  },
  {
   "cell_type": "code",
   "execution_count": 47,
   "metadata": {},
   "outputs": [
    {
     "data": {
      "text/plain": [
       "'And, after boasting this way of my tolerance, I come to the admission that it has a limit. Conduct may be founded on the hard rock or the wet marshes, but after a certain point I don’t care what it’s founded on. When I came back from the East last autumn I felt that I wanted the world to be in uniform and at a sort of moral attention forever; I wanted no more riotous excursions with privileged glimpses into the human heart. PERSON, the man who gives his name to this book, was exempt from my reaction—PERSON, who represented everything for which I have an unaffected scorn. If personality is an unbroken series of successful gestures, then there was something gorgeous about him, some heightened sensitivity to the promises of life, as if he were related to one of those intricate machines that register earthquakes ten thousand miles away. This responsiveness had nothing to do with that flabby impressionability which is dignified under the name of the creative temperament—it was an extraordinary gift for hope, a romantic readiness such as I have never found in any other person and which it is not likely I shall ever find again. No—PERSON turned out all right at the end; it is what preyed on PERSON, what foul dust floated in the wake of his dreams that temporarily closed out my interest in the abortive sorrows and short-winded elations of men. My family have been prominent, well-to-do people in this LOC city for three generations.'"
      ]
     },
     "execution_count": 47,
     "metadata": {},
     "output_type": "execute_result"
    }
   ],
   "source": [
    "df_fitzgerald_f.Text[1]"
   ]
  },
  {
   "cell_type": "code",
   "execution_count": 48,
   "metadata": {},
   "outputs": [
    {
     "name": "stdout",
     "output_type": "stream",
     "text": [
      "Only Gatsby 428 439 PERSON\n",
      "Gatsby 510 516 PERSON\n",
      "Gatsby 1147 1153 PERSON\n",
      "Gatsby 1208 1214 PERSON\n",
      "Middle Western 1420 1434 LOC\n"
     ]
    }
   ],
   "source": [
    "for ent in df_fitzgerald_f.spacy_words[1]:\n",
    "    if ent.label_ in ['PERSON','FAC','GPE','LOC','ORG']:\n",
    "        print(ent.text, ent.start_char, ent.end_char,\n",
    "          ent.label_)"
   ]
  },
  {
   "cell_type": "code",
   "execution_count": null,
   "metadata": {},
   "outputs": [],
   "source": []
  },
  {
   "cell_type": "code",
   "execution_count": 44,
   "metadata": {},
   "outputs": [],
   "source": [
    "df_fitzgerald_f.to_csv(\"../Dataset_v3/deidentified/Fitzgerald_256_di.csv\")\n"
   ]
  },
  {
   "cell_type": "code",
   "execution_count": 52,
   "metadata": {},
   "outputs": [],
   "source": [
    "df_mark_f.to_csv(\"../Dataset_v3/deidentified/Mark_256_di.csv\")\n",
    "df_charles_f.to_csv(\"../Dataset_v3/deidentified/Charles_256_di.csv\")"
   ]
  },
  {
   "cell_type": "code",
   "execution_count": null,
   "metadata": {},
   "outputs": [],
   "source": []
  }
 ],
 "metadata": {
  "kernelspec": {
   "display_name": "Python 3",
   "language": "python",
   "name": "python3"
  },
  "language_info": {
   "codemirror_mode": {
    "name": "ipython",
    "version": 3
   },
   "file_extension": ".py",
   "mimetype": "text/x-python",
   "name": "python",
   "nbconvert_exporter": "python",
   "pygments_lexer": "ipython3",
   "version": "3.8.3"
  }
 },
 "nbformat": 4,
 "nbformat_minor": 4
}