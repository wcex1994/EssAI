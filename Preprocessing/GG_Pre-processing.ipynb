{
 "cells": [
  {
   "cell_type": "markdown",
   "metadata": {},
   "source": [
    "# Pre-processing Texts\n",
    "\n",
    "This notebook is used to cleaned the text and put into chunks based on the model requirements.\n",
    "\n",
    "Current process:\n",
    "* Clean off top and bottom unnecessary words e.g. table of content\n",
    "* Chunk into 450 tokens (for BERT) - can be changed later depends on the model\n",
    "* Put into rows with Author name as csv\n"
   ]
  },
  {
   "cell_type": "code",
   "execution_count": 325,
   "metadata": {
    "ExecuteTime": {
     "end_time": "2021-02-10T21:42:53.267543Z",
     "start_time": "2021-02-10T21:42:52.891297Z"
    }
   },
   "outputs": [
    {
     "name": "stderr",
     "output_type": "stream",
     "text": [
      "[nltk_data] Downloading package punkt to /Users/Hadoop/nltk_data...\n",
      "[nltk_data]   Package punkt is already up-to-date!\n"
     ]
    },
    {
     "data": {
      "text/plain": [
       "True"
      ]
     },
     "execution_count": 325,
     "metadata": {},
     "output_type": "execute_result"
    }
   ],
   "source": [
    "import nltk\n",
    "import numpy as np\n",
    "import random\n",
    "import pandas as pd\n",
    "import re\n",
    "from collections import OrderedDict, defaultdict\n",
    "nltk.download('punkt')\n"
   ]
  },
  {
   "cell_type": "code",
   "execution_count": 326,
   "metadata": {
    "ExecuteTime": {
     "end_time": "2021-02-10T21:42:54.011877Z",
     "start_time": "2021-02-10T21:42:54.004129Z"
    }
   },
   "outputs": [],
   "source": [
    "tokenizer = nltk.data.load('tokenizers/punkt/english.pickle')"
   ]
  },
  {
   "cell_type": "markdown",
   "metadata": {},
   "source": [
    "## Support Functions"
   ]
  },
  {
   "cell_type": "code",
   "execution_count": 327,
   "metadata": {
    "ExecuteTime": {
     "end_time": "2021-02-10T21:42:54.809853Z",
     "start_time": "2021-02-10T21:42:54.803836Z"
    }
   },
   "outputs": [],
   "source": [
    "def split_by_chapter(text):\n",
    "    thisdict = defaultdict()\n",
    "    # split by chapter with one or two digits number with newline\n",
    "    split_text = re.split(\"chapter (\\d{1,2})+\", text, flags=re.IGNORECASE)\n",
    "    i = 0\n",
    "    for s in split_text:\n",
    "        if i%2 ==0 or i==0:\n",
    "            Chapter = \"chapter_\" + str(int(i/2+1))\n",
    "            thisdict[Chapter] = s\n",
    "        i+=1\n",
    "    return thisdict"
   ]
  },
  {
   "cell_type": "code",
   "execution_count": 328,
   "metadata": {
    "ExecuteTime": {
     "end_time": "2021-02-10T21:42:55.247762Z",
     "start_time": "2021-02-10T21:42:55.240467Z"
    }
   },
   "outputs": [],
   "source": [
    "def split_by_chapter_lst(text , lst):\n",
    "    lst_j = '|'.join(lst)\n",
    "    print(lst_j)\n",
    "    thisdict = defaultdict()\n",
    "    # split by chapter with one or two digits number with newline\n",
    "    split_text = re.split(lst_j, text, flags=re.IGNORECASE)\n",
    "    i = 0\n",
    "    for s in split_text:\n",
    "        Chapter = \"chapter_\" + str(i+1)\n",
    "        thisdict[Chapter] = s\n",
    "        i+=1\n",
    "    return thisdict\n"
   ]
  },
  {
   "cell_type": "code",
   "execution_count": 329,
   "metadata": {
    "ExecuteTime": {
     "end_time": "2021-02-10T21:42:55.659517Z",
     "start_time": "2021-02-10T21:42:55.653559Z"
    }
   },
   "outputs": [],
   "source": [
    "def nth_split(s, delim, n): \n",
    "    p, c = -1, 0\n",
    "    while c < n:  \n",
    "        p = s.index(delim, p + 1)\n",
    "        c += 1\n",
    "        print(p,c)\n",
    "    return [s[:p], s[p + len(delim):]]"
   ]
  },
  {
   "cell_type": "markdown",
   "metadata": {},
   "source": [
    "## Read Data"
   ]
  },
  {
   "cell_type": "code",
   "execution_count": 330,
   "metadata": {
    "ExecuteTime": {
     "end_time": "2021-02-10T21:42:56.676482Z",
     "start_time": "2021-02-10T21:42:56.673303Z"
    }
   },
   "outputs": [],
   "source": [
    "# Author = \"Charles_Dickens\"\n",
    "# Book = \"Oliver_Twist\"\n",
    "# lst = [' CHAPTER I.' , ' CHAPTER II.' , ' CHAPTER III.' , ' CHAPTER IV.' ,\n",
    "#  ' CHAPTER V.', ' CHAPTER VI.' , ' CHAPTER VII.' , ' CHAPTER VIII.',\n",
    "#  ' CHAPTER IX .' ,' CHAPTER X.' ,' CHAPTER XI.' ,' CHAPTER XII.' ,' CHAPTER XIII.' ,\n",
    "#  ' CHAPTER XIV.' ,' CHAPTER XV.' ,' CHAPTER XVI.' ,' CHAPTER XVII.' ,' CHAPTER XVIII.' ,\n",
    "#  ' CHAPTER XIX .' ,' CHAPTER XX.' ,' CHAPTER XXI.' ,' CHAPTER XXII .' ,' CHAPTER XXIII.' ,\n",
    "#  ' CHAPTER XXIV.' ,' CHAPTER XXV .' ,' CHAPTER XXVI.' ,' CHAPTER XXVII.' ,' CHAPTER XXVIII.' ,\n",
    "#  ' CHAPTER XXIX.' ,' CHAPTER XXX.' ,' CHAPTER XXXI.' ,' CHAPTER XXXII.' ,' CHAPTER XXXIII.' ,\n",
    "#  ' CHAPTER XXXIV .' ,' CHAPTER XXXV.' ,' CHAPTER XXXVI.' ,' CHAPTER XXXVII.' ,' CHAPTER XXXVIII.' ,\n",
    "#  ' CHAPTER XXXIX.' ,' CHAPTER XL.' ,' CHAPTER XLI.' ,' CHAPTER XLII.' ,' CHAPTER XLIII.' ,\n",
    "#  ' CHAPTER XLIV.' ,' CHAPTER XLV.' ,' CHAPTER XLVI.' ,' CHAPTER XLVII.' ,' CHAPTER XLVIII.' ,\n",
    "#  ' CHAPTER XLIX.' ,' CHAPTER L.' ,' CHAPTER LI.' ,' CHAPTER LII.' ,' CHAPTER LIII.' ]\n",
    "# first_clean = ' CHAPTER I.'\n",
    "# n_split = 1\n",
    "# last_clean = 'End of the Project Gutenberg EBook of Oliver Twist, by Charles Dickens' \n",
    "# file_name = \"data/CD-books/\" + Book + \".txt\"\n",
    "# split_func = 'split_by_chapter_lst'"
   ]
  },
  {
   "cell_type": "code",
   "execution_count": 331,
   "metadata": {
    "ExecuteTime": {
     "end_time": "2021-02-10T21:42:57.056068Z",
     "start_time": "2021-02-10T21:42:57.051889Z"
    }
   },
   "outputs": [],
   "source": [
    "# Author = \"Charles_Dickens\"\n",
    "# Book = \"The_Pickwick_Papers\"\n",
    "# lst = ['CHAPTER I.' , 'CHAPTER II.' , 'CHAPTER III.' , 'CHAPTER IV.' ,\n",
    "#  'CHAPTER V.', 'CHAPTER VI.' , 'CHAPTER VII.' , 'CHAPTER VIII.',\n",
    "#  'CHAPTER IX .' ,'CHAPTER X.' ,'CHAPTER XI.' ,'CHAPTER XII.' ,'CHAPTER XIII.' ,\n",
    "#  'CHAPTER XIV.' ,'CHAPTER XV.' ,'CHAPTER XVI.' ,'CHAPTER XVII.' ,'CHAPTER XVIII.' ,\n",
    "#  'CHAPTER XIX .' ,'CHAPTER XX.' ,'CHAPTER XXI.' ,'CHAPTER XXII .' ,'CHAPTER XXIII.' ,\n",
    "#  'CHAPTER XXIV.' ,'CHAPTER XXV .' ,'CHAPTER XXVI.' ,'CHAPTER XXVII.' ,'CHAPTER XXVIII.' ,\n",
    "#  'CHAPTER XXIX.' ,'CHAPTER XXX.' ,'CHAPTER XXXI.' ,'CHAPTER XXXII.' ,'CHAPTER XXXIII.' ,\n",
    "#  'CHAPTER XXXIV .' ,'CHAPTER XXXV.' ,'CHAPTER XXXVI.' ,'CHAPTER XXXVII.' ,'CHAPTER XXXVIII.' ,\n",
    "#  'CHAPTER XXXIX.' ,'CHAPTER XL.' ,'CHAPTER XLI.' ,'CHAPTER XLII.' ,'CHAPTER XLIII.' ,\n",
    "#  'CHAPTER XLIV.' ,'CHAPTER XLV.' ,'CHAPTER XLVI.' ,'CHAPTER XLVII.' ,'CHAPTER XLVIII.' ,\n",
    "#  'CHAPTER XLIX.' ,'CHAPTER L.' ,'CHAPTER LI.' ,'CHAPTER LII.' ,'CHAPTER LIII.','CHAPTER LIV.',\n",
    "#  'CHAPTER LV.',   'CHAPTER LVI.' , 'CHAPTER LVII.'           ]\n",
    "\n",
    "# first_clean = ' CHAPTER I.'\n",
    "# n_split = 2\n",
    "# last_clean = 'End of the Project Gutenberg EBook of The Pickwick Papers, by Charles Dickens'\n",
    "\n",
    "# file_name = \"data/CD-books/\" + Book + \".txt\"\n",
    "# split_func = 'split_by_chapter_lst'"
   ]
  },
  {
   "cell_type": "code",
   "execution_count": 332,
   "metadata": {
    "ExecuteTime": {
     "end_time": "2021-02-10T21:42:57.449911Z",
     "start_time": "2021-02-10T21:42:57.446502Z"
    }
   },
   "outputs": [],
   "source": [
    "# Author = \"Charles_Dickens\"\n",
    "# Book = \"The_Life_And_Adventures_Of_Nicholas_Nickleby\"\n",
    "# first_clean = 'CHAPTER 1'\n",
    "# n_split = 1\n",
    "# last_clean = 'End of the Project Gutenberg EBook of The Life And Adventures Of Nicholas Nickleby, by Charles Dickens' \n",
    "# file_name = \"data/CD-books/\" + Book + \".txt\"\n",
    "# split_func = 'split_by_chapter'\n"
   ]
  },
  {
   "cell_type": "code",
   "execution_count": 333,
   "metadata": {
    "ExecuteTime": {
     "end_time": "2021-02-10T21:42:57.833780Z",
     "start_time": "2021-02-10T21:42:57.823810Z"
    }
   },
   "outputs": [],
   "source": [
    "# Author = \"Charles_Dickens\"\n",
    "# Book = \"04.The_Old_Curiosity_Shop\"\n",
    "\n",
    "# first_clean = 'CHAPTER 1'\n",
    "# n_split = 2\n",
    "# last_clean = 'End of Project Gutenberg’s The Old Curiosity Shop, by Charles Dickens'\n",
    "\n",
    "# file_name = \"data/CD-books/\" + Book + \".txt\"\n",
    "# split_func = 'split_by_chapter'"
   ]
  },
  {
   "cell_type": "code",
   "execution_count": 359,
   "metadata": {
    "ExecuteTime": {
     "end_time": "2021-02-11T00:09:57.518733Z",
     "start_time": "2021-02-11T00:09:57.513378Z"
    }
   },
   "outputs": [],
   "source": [
    "# Author = \"Charles_Dickens\"\n",
    "# Book = \"05.Barnaby_Rudge\"\n",
    "\n",
    "# first_clean = 'Chapter 1'\n",
    "# n_split = 2\n",
    "# last_clean = 'End of the Project Gutenberg EBook of Barnaby Rudge, by Charles Dickens'\n",
    "\n",
    "# file_name = \"data/CD-books/\" + Book + \".txt\"\n",
    "# split_func = 'split_by_chapter'\n",
    "# tgt_file_name = \"data/CD-books/\"+Author+\"_\"+ Book + \".csv\"\n"
   ]
  },
  {
   "cell_type": "code",
   "execution_count": null,
   "metadata": {},
   "outputs": [],
   "source": [
    "Author = \"Charles_Dickens\"\n",
    "Book = \"07.The_Life And Adventures Of Martin Chuzzlewit\"\n",
    "lst = ['CHAPTER ONE','CHAPTER TWO','CHAPTER THREE'\n",
    "first_clean = 'CHAPTER ONE'\n",
    "n_split = 1\n",
    "last_clean = 'End of the Project Gutenberg EBook of Life And Adventures Of Martin Chuzzlewit, by Charles Dickens'\n",
    "\n",
    "file_name = \"data/CD-books/\" + Book + \".txt\"\n",
    "split_func = 'split_by_chapter'\n",
    "tgt_file_name = \"data/CD-books/\"+Author+\"_\"+ Book + \".csv\""
   ]
  },
  {
   "cell_type": "code",
   "execution_count": 360,
   "metadata": {
    "ExecuteTime": {
     "end_time": "2021-02-11T00:09:59.833519Z",
     "start_time": "2021-02-11T00:09:59.823826Z"
    }
   },
   "outputs": [],
   "source": [
    "f = open(file_name, \"r\", encoding=\"utf8\")"
   ]
  },
  {
   "cell_type": "code",
   "execution_count": 361,
   "metadata": {
    "ExecuteTime": {
     "end_time": "2021-02-11T00:10:00.164866Z",
     "start_time": "2021-02-11T00:10:00.153378Z"
    }
   },
   "outputs": [],
   "source": [
    "cd = f.read().replace('\\n', ' ')"
   ]
  },
  {
   "cell_type": "markdown",
   "metadata": {},
   "source": [
    "### Clean top and botten unnecessary words"
   ]
  },
  {
   "cell_type": "code",
   "execution_count": 362,
   "metadata": {
    "ExecuteTime": {
     "end_time": "2021-02-11T00:10:00.765585Z",
     "start_time": "2021-02-11T00:10:00.758218Z"
    }
   },
   "outputs": [
    {
     "data": {
      "text/plain": [
       "8096"
      ]
     },
     "execution_count": 362,
     "metadata": {},
     "output_type": "execute_result"
    }
   ],
   "source": [
    "cd.find(first_clean)"
   ]
  },
  {
   "cell_type": "code",
   "execution_count": 363,
   "metadata": {
    "ExecuteTime": {
     "end_time": "2021-02-11T00:10:01.069159Z",
     "start_time": "2021-02-11T00:10:01.062755Z"
    }
   },
   "outputs": [
    {
     "data": {
      "text/plain": [
       "1419281"
      ]
     },
     "execution_count": 363,
     "metadata": {},
     "output_type": "execute_result"
    }
   ],
   "source": [
    "cd.find(last_clean)"
   ]
  },
  {
   "cell_type": "code",
   "execution_count": 364,
   "metadata": {
    "ExecuteTime": {
     "end_time": "2021-02-11T00:10:01.372804Z",
     "start_time": "2021-02-11T00:10:01.366268Z"
    }
   },
   "outputs": [
    {
     "name": "stdout",
     "output_type": "stream",
     "text": [
      "8096 1\n",
      "172180 2\n"
     ]
    }
   ],
   "source": [
    "cd = nth_split(cd,first_clean,n_split)[1]\n",
    "\n",
    "#cd = cd.split(first_clean)[1]"
   ]
  },
  {
   "cell_type": "code",
   "execution_count": 365,
   "metadata": {
    "ExecuteTime": {
     "end_time": "2021-02-11T00:10:02.107679Z",
     "start_time": "2021-02-11T00:10:02.100479Z"
    }
   },
   "outputs": [
    {
     "data": {
      "text/plain": [
       "1265863"
      ]
     },
     "execution_count": 365,
     "metadata": {},
     "output_type": "execute_result"
    }
   ],
   "source": [
    "len(cd)"
   ]
  },
  {
   "cell_type": "code",
   "execution_count": 366,
   "metadata": {
    "ExecuteTime": {
     "end_time": "2021-02-11T00:10:02.505514Z",
     "start_time": "2021-02-11T00:10:02.494690Z"
    }
   },
   "outputs": [],
   "source": [
    "cd = cd.split(last_clean)[0]"
   ]
  },
  {
   "cell_type": "markdown",
   "metadata": {},
   "source": [
    "### Clean words, space, newline"
   ]
  },
  {
   "cell_type": "code",
   "execution_count": 367,
   "metadata": {
    "ExecuteTime": {
     "end_time": "2021-02-11T00:10:03.595653Z",
     "start_time": "2021-02-11T00:10:03.531754Z"
    }
   },
   "outputs": [],
   "source": [
    "cd = re.sub('([.,!?()\"\"])', r' \\1 ', cd)"
   ]
  },
  {
   "cell_type": "code",
   "execution_count": 368,
   "metadata": {
    "ExecuteTime": {
     "end_time": "2021-02-11T00:10:03.933532Z",
     "start_time": "2021-02-11T00:10:03.901160Z"
    }
   },
   "outputs": [],
   "source": [
    "if split_func == 'split_by_chapter':\n",
    "    cd_dict = split_by_chapter(cd)\n",
    "else:\n",
    "    cd_dict = split_by_chapter_lst(cd,lst)"
   ]
  },
  {
   "cell_type": "code",
   "execution_count": 369,
   "metadata": {
    "ExecuteTime": {
     "end_time": "2021-02-11T00:10:04.381616Z",
     "start_time": "2021-02-11T00:10:04.283341Z"
    }
   },
   "outputs": [],
   "source": [
    "for key,item in cd_dict.items():\n",
    "    ## remove addtional space\n",
    "    #hemingway_dict[key] = item.strip(' ')\n",
    "    ## remove newline and space at beginning and end\n",
    "    cd_dict[key] = re.sub(' +', ' ', item)  "
   ]
  },
  {
   "cell_type": "markdown",
   "metadata": {},
   "source": [
    "### Chunk data into 450 tokens each\n",
    "\n",
    "BERT can hadle up to 512."
   ]
  },
  {
   "cell_type": "code",
   "execution_count": 370,
   "metadata": {
    "ExecuteTime": {
     "end_time": "2021-02-11T00:10:05.556615Z",
     "start_time": "2021-02-11T00:10:05.474780Z"
    },
    "collapsed": true
   },
   "outputs": [
    {
     "name": "stdout",
     "output_type": "stream",
     "text": [
      "chapter_1 4848\n",
      "chapter_2 2217\n",
      "chapter_3 3614\n",
      "chapter_4 4915\n",
      "chapter_5 2099\n",
      "chapter_6 4409\n",
      "chapter_7 2644\n",
      "chapter_8 4671\n",
      "chapter_9 2148\n",
      "chapter_10 4745\n",
      "chapter_11 2638\n",
      "chapter_12 3804\n",
      "chapter_13 2917\n",
      "chapter_14 4532\n",
      "chapter_15 2252\n",
      "chapter_16 4445\n",
      "chapter_17 2259\n",
      "chapter_18 4834\n",
      "chapter_19 2317\n",
      "chapter_20 5256\n",
      "chapter_21 1849\n",
      "chapter_22 4957\n",
      "chapter_23 2308\n",
      "chapter_24 4566\n",
      "chapter_25 2568\n",
      "chapter_26 4939\n",
      "chapter_27 2059\n",
      "chapter_28 4811\n",
      "chapter_29 2267\n",
      "chapter_30 4071\n",
      "chapter_31 2911\n",
      "chapter_32 5088\n",
      "chapter_33 2067\n",
      "chapter_34 4956\n",
      "chapter_35 2108\n",
      "chapter_36 4755\n",
      "chapter_37 2572\n",
      "chapter_38 3579\n",
      "chapter_39 3569\n",
      "chapter_40 4616\n",
      "chapter_41 2688\n",
      "chapter_42 4435\n",
      "chapter_43 2881\n",
      "chapter_44 3852\n",
      "chapter_45 3368\n",
      "chapter_46 3746\n",
      "chapter_47 3464\n",
      "chapter_48 3919\n",
      "chapter_49 3159\n",
      "chapter_50 5007\n",
      "chapter_51 1947\n",
      "chapter_52 3112\n",
      "chapter_53 3979\n",
      "chapter_54 3983\n",
      "chapter_55 3630\n",
      "chapter_56 4667\n",
      "chapter_57 2913\n",
      "chapter_58 4911\n",
      "chapter_59 2365\n",
      "chapter_60 4495\n",
      "chapter_61 3028\n",
      "chapter_62 4603\n",
      "chapter_63 2516\n",
      "chapter_64 4546\n",
      "chapter_65 2855\n",
      "chapter_66 4930\n",
      "chapter_67 2480\n",
      "chapter_68 5134\n",
      "chapter_69 2505\n",
      "chapter_70 3888\n",
      "chapter_71 3488\n",
      "chapter_72 7445\n"
     ]
    }
   ],
   "source": [
    "# First check the chapter length\n",
    "for key,item in cd_dict.items():\n",
    "    if len(item.split()) > 450:\n",
    "        print(key, len(item.split()))"
   ]
  },
  {
   "cell_type": "code",
   "execution_count": 371,
   "metadata": {
    "ExecuteTime": {
     "end_time": "2021-02-11T00:10:06.420250Z",
     "start_time": "2021-02-11T00:10:06.049657Z"
    }
   },
   "outputs": [],
   "source": [
    "# create two empty lists for df \n",
    "chapterindex = []\n",
    "text = []\n",
    "\n",
    "for key,item in cd_dict.items():\n",
    "    # wordcount starts from 0\n",
    "    wordcount = 0 \n",
    "    # keep adding sentences until 512 tokens\n",
    "    chapter_chunk_text = \"\"\n",
    "    # sentences in each chapter\n",
    "    sentences = tokenizer.tokenize(item)\n",
    "    # loop through each sentence \n",
    "    for sent in sentences:\n",
    "        # check the word count per sentence\n",
    "        wv = len(sent.split())\n",
    "        # if adding this sentence makes it over 450 tokens \n",
    "        if wordcount + wv >= 450:\n",
    "            # push row and clean cache\n",
    "            chapterindex.append(key)\n",
    "            text.append(chapter_chunk_text)\n",
    "            wordcount = 0\n",
    "            chapter_chunk_text = sent\n",
    "        # if not exceed, append the text and add wordcount\n",
    "        chapter_chunk_text += ' ' + sent\n",
    "        wordcount += wv\n",
    "    # once a chapter finished, push all rest text \n",
    "    chapterindex.append(key)\n",
    "    text.append(chapter_chunk_text)\n",
    "        "
   ]
  },
  {
   "cell_type": "code",
   "execution_count": 372,
   "metadata": {
    "ExecuteTime": {
     "end_time": "2021-02-11T00:10:06.555789Z",
     "start_time": "2021-02-11T00:10:06.541819Z"
    }
   },
   "outputs": [],
   "source": [
    "# create dataframe \n",
    "cd_df = pd.DataFrame(\n",
    "    {'chapter': chapterindex,\n",
    "     'text': text\n",
    "    })"
   ]
  },
  {
   "cell_type": "code",
   "execution_count": 373,
   "metadata": {
    "ExecuteTime": {
     "end_time": "2021-02-11T00:10:07.113556Z",
     "start_time": "2021-02-11T00:10:07.073706Z"
    }
   },
   "outputs": [],
   "source": [
    "# create total words count per row\n",
    "cd_df['totalwords'] = cd_df['text'].str.split().str.len()"
   ]
  },
  {
   "cell_type": "code",
   "execution_count": 374,
   "metadata": {
    "ExecuteTime": {
     "end_time": "2021-02-11T00:10:07.598748Z",
     "start_time": "2021-02-11T00:10:07.589267Z"
    },
    "collapsed": true
   },
   "outputs": [
    {
     "data": {
      "text/plain": [
       "' 0 It was on one of those mornings , common in early spring , when the year , fickle and changeable in its youth like all other created things , is undecided whether to step backward into winter or forward into summer , and in its uncertainty inclines now to the one and now to the other , and now to both at once--wooing summer in the sunshine , and lingering still with winter in the shade--it was , in short , on one of those mornings , when it is hot and cold , wet and dry , bright and lowering , sad and cheerful , withering and genial , in the compass of one short hour , that old John Willet , who was dropping asleep over the copper boiler , was roused by the sound of a horse’s feet , and glancing out at window , beheld a traveller of goodly promise , checking his bridle at the Maypole door . He was none of your flippant young fellows , who would call for a tankard of mulled ale , and make themselves as much at home as if they had ordered a hogshead of wine; none of your audacious young swaggerers , who would even penetrate into the bar--that solemn sanctuary--and , smiting old John upon the back , inquire if there was never a pretty girl in the house , and where he hid his little chambermaids , with a hundred other impertinences of that nature; none of your free-and-easy companions , who would scrape their boots upon the firedogs in the common room , and be not at all particular on the subject of spittoons; none of your unconscionable blades , requiring impossible chops , and taking unheard-of pickles for granted . He was a staid , grave , placid gentleman , something past the prime of life , yet upright in his carriage , for all that , and slim as a greyhound . He was well-mounted upon a sturdy chestnut cob , and had the graceful seat of an experienced horseman; while his riding gear , though free from such fopperies as were then in vogue , was handsome and well chosen . He wore a riding-coat of a somewhat brighter green than might have been expected to suit the taste of a gentleman of his years , with a short , black velvet cape , and laced pocket-holes and cuffs , all of a jaunty fashion; his linen , too , was of the finest kind , worked in a rich pattern at the wrists and throat , and scrupulously white .'"
      ]
     },
     "execution_count": 374,
     "metadata": {},
     "output_type": "execute_result"
    }
   ],
   "source": [
    "cd_df.iloc[0]['text']"
   ]
  },
  {
   "cell_type": "code",
   "execution_count": 375,
   "metadata": {
    "ExecuteTime": {
     "end_time": "2021-02-11T00:10:08.272658Z",
     "start_time": "2021-02-11T00:10:08.265097Z"
    }
   },
   "outputs": [],
   "source": [
    "cd_df['author'] = Author"
   ]
  },
  {
   "cell_type": "markdown",
   "metadata": {},
   "source": [
    "### Save as csv with author name"
   ]
  },
  {
   "cell_type": "code",
   "execution_count": 376,
   "metadata": {
    "ExecuteTime": {
     "end_time": "2021-02-11T00:10:09.298061Z",
     "start_time": "2021-02-11T00:10:09.243676Z"
    }
   },
   "outputs": [],
   "source": [
    "\n",
    "cd_df.to_csv(tgt_file_name)"
   ]
  },
  {
   "cell_type": "code",
   "execution_count": null,
   "metadata": {},
   "outputs": [],
   "source": []
  },
  {
   "cell_type": "code",
   "execution_count": null,
   "metadata": {},
   "outputs": [],
   "source": []
  }
 ],
 "metadata": {
  "kernelspec": {
   "display_name": "Python 3",
   "language": "python",
   "name": "python3"
  },
  "language_info": {
   "codemirror_mode": {
    "name": "ipython",
    "version": 3
   },
   "file_extension": ".py",
   "mimetype": "text/x-python",
   "name": "python",
   "nbconvert_exporter": "python",
   "pygments_lexer": "ipython3",
   "version": "3.8.3"
  }
 },
 "nbformat": 4,
 "nbformat_minor": 4
}
