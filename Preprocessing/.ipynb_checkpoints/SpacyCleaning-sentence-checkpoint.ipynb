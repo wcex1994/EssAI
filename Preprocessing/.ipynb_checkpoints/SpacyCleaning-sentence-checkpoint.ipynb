{
 "cells": [
  {
   "cell_type": "code",
   "execution_count": 1,
   "metadata": {},
   "outputs": [],
   "source": [
    "import torch\n",
    "import pickle\n",
    "import json\n",
    "import pandas as pd\n",
    "import numpy as np\n",
    "from sklearn.metrics import classification_report, accuracy_score\n",
    "from sklearn.preprocessing import LabelEncoder\n",
    "from sklearn.model_selection import train_test_split\n",
    "import torch.nn as nn\n",
    "from matplotlib import pyplot as plt\n",
    "import spacy\n",
    "import re"
   ]
  },
  {
   "cell_type": "code",
   "execution_count": 2,
   "metadata": {},
   "outputs": [],
   "source": [
    "nlp = spacy.load(\"en_core_web_sm\")"
   ]
  },
  {
   "cell_type": "code",
   "execution_count": 3,
   "metadata": {},
   "outputs": [
    {
     "name": "stdout",
     "output_type": "stream",
     "text": [
      "Charles ATaleOfTwoCities: (7445, 6) \n",
      "charles BarnabyRudge: (11785, 6)\n",
      "charles DavidCopperfield: (18131, 6)\n",
      "charles DombeyAndSon: (16637, 6)\n",
      "charles GreatExpectations: (9131, 6)\n",
      "charles LittleDorrit: (17274, 6)\n",
      "charles OliverTwist: (8197, 6)\n",
      "charles OurMutualFriend: (18947, 6)\n",
      "charles TheChimes: (2025, 6)\n",
      "charles TheLifeAndAdventuresOfMartinChuzzlewit: (18253, 6)\n",
      "charles TheLifeAndAdventuresOfNicholasNickleby: (15061, 6)\n",
      "charles TheMysteryOfEdwinDrood: (5412, 6)\n",
      "charles TheOldCuriosityShop: (9634, 6)\n",
      "charles ThePickwickPapers: (14659, 6)\n"
     ]
    }
   ],
   "source": [
    "dirname = '../Dataset_v3/cleaned/CharlesDickens/ATaleOfTwoCities.csv'\n",
    "charles1 = pd.read_csv(dirname)\n",
    "print(\"Charles ATaleOfTwoCities: {0} \".format(charles1.shape))\n",
    "\n",
    "dirname = '../Dataset_v3/cleaned/CharlesDickens/BarnabyRudge.csv'\n",
    "charles2 = pd.read_csv(dirname)\n",
    "print(\"charles BarnabyRudge: {0}\" .format(charles2.shape))\n",
    "\n",
    "dirname = '../Dataset_v3/cleaned/CharlesDickens/DavidCopperfield.csv'\n",
    "charles3 = pd.read_csv(dirname)\n",
    "print(\"charles DavidCopperfield: {0}\" .format(charles3.shape))\n",
    "\n",
    "dirname = '../Dataset_v3/cleaned/CharlesDickens/DombeyAndSon.csv'\n",
    "charles4 = pd.read_csv(dirname)\n",
    "print(\"charles DombeyAndSon: {0}\" .format(charles4.shape))\n",
    "\n",
    "dirname = '../Dataset_v3/cleaned/CharlesDickens/GreatExpectations.csv'\n",
    "charles5 = pd.read_csv(dirname)\n",
    "print(\"charles GreatExpectations: {0}\" .format(charles5.shape))\n",
    "\n",
    "dirname = '../Dataset_v3/cleaned/CharlesDickens/LittleDorrit.csv'\n",
    "charles6 = pd.read_csv(dirname)\n",
    "print(\"charles LittleDorrit: {0}\" .format(charles6.shape))\n",
    "\n",
    "dirname = '../Dataset_v3/cleaned/CharlesDickens/OliverTwist.csv'\n",
    "charles7 = pd.read_csv(dirname)\n",
    "print(\"charles OliverTwist: {0}\" .format(charles7.shape))\n",
    "\n",
    "dirname = '../Dataset_v3/cleaned/CharlesDickens/OurMutualFriend.csv'\n",
    "charles8 = pd.read_csv(dirname)\n",
    "print(\"charles OurMutualFriend: {0}\" .format(charles8.shape))\n",
    "\n",
    "dirname = '../Dataset_v3/cleaned/CharlesDickens/TheChimes.csv'\n",
    "charles9 = pd.read_csv(dirname)\n",
    "print(\"charles TheChimes: {0}\" .format(charles9.shape))\n",
    "\n",
    "dirname = '../Dataset_v3/cleaned/CharlesDickens/TheLifeAndAdventuresOfMartinChuzzlewit.csv'\n",
    "charles10 = pd.read_csv(dirname)\n",
    "print(\"charles TheLifeAndAdventuresOfMartinChuzzlewit: {0}\" .format(charles10.shape))\n",
    "\n",
    "dirname = '../Dataset_v3/cleaned/CharlesDickens/TheLifeAndAdventuresOfNicholasNickleby.csv'\n",
    "charles11 = pd.read_csv(dirname)\n",
    "print(\"charles TheLifeAndAdventuresOfNicholasNickleby: {0}\" .format(charles11.shape))\n",
    "\n",
    "dirname = '../Dataset_v3/cleaned/CharlesDickens/TheMysteryOfEdwinDrood.csv'\n",
    "charles12 = pd.read_csv(dirname)\n",
    "print(\"charles TheMysteryOfEdwinDrood: {0}\" .format(charles12.shape))\n",
    "\n",
    "dirname = '../Dataset_v3/cleaned/CharlesDickens/TheOldCuriosityShop.csv'\n",
    "charles13 = pd.read_csv(dirname)\n",
    "print(\"charles TheOldCuriosityShop: {0}\" .format(charles13.shape))\n",
    "\n",
    "dirname = '../Dataset_v3/cleaned/CharlesDickens/ThePickwickPapers.csv'\n",
    "charles14 = pd.read_csv(dirname)\n",
    "print(\"charles ThePickwickPapers: {0}\" .format(charles14.shape))\n"
   ]
  },
  {
   "cell_type": "code",
   "execution_count": 4,
   "metadata": {},
   "outputs": [
    {
     "name": "stdout",
     "output_type": "stream",
     "text": [
      "Fitzgerald The_Great_Gatsby: (3264, 6)\n",
      "Fitzgerald TheBeautifulAndDamned: (8544, 6)\n",
      "Fitzgerald ThisSideOfParadise: (5367, 6)\n",
      "Fitzgerald FlappersAndPhilosophers: (4652, 6)\n",
      "Fitzgerald TalesOfTheJazzAge: (6211, 6)\n"
     ]
    }
   ],
   "source": [
    "\n",
    "dirname = '../Dataset_v3/cleaned/Fitzgerald/The_Great_Gatsby.csv'\n",
    "Fitzgerald1 = pd.read_csv(dirname)\n",
    "print(\"Fitzgerald The_Great_Gatsby: {0}\".format(Fitzgerald1.shape))\n",
    "\n",
    "dirname = '../Dataset_v3/cleaned/Fitzgerald/TheBeautifulAndDamned.csv'\n",
    "Fitzgerald2 = pd.read_csv(dirname)\n",
    "print(\"Fitzgerald TheBeautifulAndDamned: {0}\".format(Fitzgerald2.shape))\n",
    "\n",
    "dirname = '../Dataset_v3/cleaned/Fitzgerald/ThisSideOfParadise.csv'\n",
    "Fitzgerald3 = pd.read_csv(dirname)\n",
    "print(\"Fitzgerald ThisSideOfParadise: {0}\".format(Fitzgerald3.shape))\n",
    "\n",
    "dirname = '../Dataset_v3/cleaned/Fitzgerald/FlappersAndPhilosophers.csv'\n",
    "Fitzgerald4 = pd.read_csv(dirname)\n",
    "print(\"Fitzgerald FlappersAndPhilosophers: {0}\".format(Fitzgerald4.shape))\n",
    "\n",
    "dirname = '../Dataset_v3/cleaned/Fitzgerald/TalesOfTheJazzAge.csv'\n",
    "Fitzgerald5 = pd.read_csv(dirname)\n",
    "print(\"Fitzgerald TalesOfTheJazzAge: {0}\".format(Fitzgerald5.shape))"
   ]
  },
  {
   "cell_type": "code",
   "execution_count": 5,
   "metadata": {},
   "outputs": [
    {
     "name": "stdout",
     "output_type": "stream",
     "text": [
      "Jane Pride_and_Prejudice_Jane_Austen: (5978, 6)\n",
      "Jane Emma_Jane_Austen: (7470, 6)\n",
      "Jane MansfieldPark: (6753, 6)\n",
      "Jane NorthangerAbbey: (3480, 6)\n",
      "Jane Persuasion: (3744, 6)\n",
      "Jane SenseAndSensibility: (4954, 6)\n"
     ]
    }
   ],
   "source": [
    "\n",
    "dirname = '../Dataset_v3/cleaned/Jane/Pride_and_Prejudice_Jane_Austen.csv'\n",
    "Jane1 = pd.read_csv(dirname)\n",
    "print(\"Jane Pride_and_Prejudice_Jane_Austen: {0}\".format(Jane1.shape))\n",
    "\n",
    "dirname = '../Dataset_v3/cleaned/Jane/Emma_Jane_Austen.csv'\n",
    "Jane2 = pd.read_csv(dirname)\n",
    "print(\"Jane Emma_Jane_Austen: {0}\".format(Jane2.shape))\n",
    "\n",
    "dirname = '../Dataset_v3/cleaned/Jane/MansfieldPark.csv'\n",
    "Jane3 = pd.read_csv(dirname)\n",
    "print(\"Jane MansfieldPark: {0}\".format(Jane3.shape))\n",
    "\n",
    "dirname = '../Dataset_v3/cleaned/Jane/NorthangerAbbey.csv'\n",
    "Jane4 = pd.read_csv(dirname)\n",
    "print(\"Jane NorthangerAbbey: {0}\".format(Jane4.shape))\n",
    "\n",
    "dirname = '../Dataset_v3/cleaned/Jane/Persuasion.csv'\n",
    "Jane5 = pd.read_csv(dirname)\n",
    "print(\"Jane Persuasion: {0}\".format(Jane5.shape))\n",
    "\n",
    "dirname = '../Dataset_v3/cleaned/Jane/SenseAndSensibility.csv'\n",
    "Jane6 = pd.read_csv(dirname)\n",
    "print(\"Jane SenseAndSensibility: {0}\".format(Jane6.shape))\n",
    "\n"
   ]
  },
  {
   "cell_type": "code",
   "execution_count": 6,
   "metadata": {},
   "outputs": [
    {
     "name": "stdout",
     "output_type": "stream",
     "text": [
      "Mark TheAdventuresOfTomSawyer: (5002, 6)\n",
      "Mark ThePrinceAndThePauper: (3448, 6)\n",
      "Mark AConnecticutYankeeInKingArthursCourt: (6369, 6)\n",
      "Mark LifeOnTheMississippi: (7004, 6)\n",
      "Mark TheMysteriousStranger: (2131, 6)\n",
      "Mark TheTragedyOfPuddnheadWilson: (2909, 6)\n"
     ]
    }
   ],
   "source": [
    "dirname = '../Dataset_v3/cleaned/Mark/TheAdventuresOfTomSawyer.csv'\n",
    "Mark1 = pd.read_csv(dirname)\n",
    "print(\"Mark TheAdventuresOfTomSawyer: {0}\".format(Mark1.shape))\n",
    "\n",
    "dirname = '../Dataset_v3/cleaned/Mark/ThePrinceAndThePauper.csv'\n",
    "Mark2 = pd.read_csv(dirname)\n",
    "print(\"Mark ThePrinceAndThePauper: {0}\".format(Mark2.shape))\n",
    "\n",
    "\n",
    "dirname = '../Dataset_v3/cleaned/Mark/AConnecticutYankeeInKingArthursCourt.csv'\n",
    "Mark3 = pd.read_csv(dirname)\n",
    "print(\"Mark AConnecticutYankeeInKingArthursCourt: {0}\".format(Mark3.shape))\n",
    "\n",
    "\n",
    "dirname = '../Dataset_v3/cleaned/Mark/LifeOnTheMississippi.csv'\n",
    "Mark4 = pd.read_csv(dirname)\n",
    "print(\"Mark LifeOnTheMississippi: {0}\".format(Mark4.shape))\n",
    "\n",
    "dirname = '../Dataset_v3/cleaned/Mark/TheMysteriousStranger.csv'\n",
    "Mark5 = pd.read_csv(dirname)\n",
    "print(\"Mark TheMysteriousStranger: {0}\".format(Mark5.shape))\n",
    "\n",
    "dirname = '../Dataset_v3/cleaned/Mark/TheTragedyOfPuddnheadWilson.csv'\n",
    "Mark6 = pd.read_csv(dirname)\n",
    "print(\"Mark TheTragedyOfPuddnheadWilson: {0}\".format(Mark6.shape))\n"
   ]
  },
  {
   "cell_type": "code",
   "execution_count": 7,
   "metadata": {},
   "outputs": [
    {
     "name": "stdout",
     "output_type": "stream",
     "text": [
      "Various AlicesAdventuresInWonderlandByLewisCarroll: (1336, 6)\n",
      "Various AModestProposalByJonathanSwift: (67, 6)\n",
      "Various FrankensteinOrTheModernPrometheusByMaryWollstonecraftShelley: (3354, 6)\n",
      "Various MetamorphosisByFranzKafka: (799, 6)\n",
      "Various MobyDickOrTheWhalebyHermanMelville: (9134, 6)\n",
      "Various TheAdventuresofSherlockHolmesbyArthurConanDoyle: (6534, 6)\n",
      "Various TheImportanceOfBeingEarnestATrivialComedyForSeriousPeopleByOscarWilde: (3254, 6)\n",
      "Various TheScarletLetterbyNathanielHawthorne: (3432, 6)\n",
      "Various TheStrangeCaseofDrJekyllandMrHydebyRobertLouisStevenson: (1115, 6)\n",
      "Various TheYellowWallpaperbyCharlottePerkinsGilman: (389, 6)\n"
     ]
    }
   ],
   "source": [
    "dirname = '../Dataset_v3/cleaned/Various/AlicesAdventuresInWonderlandByLewisCarroll.csv'\n",
    "Various1 = pd.read_csv(dirname)\n",
    "print(\"Various AlicesAdventuresInWonderlandByLewisCarroll: {0}\".format(Various1.shape))\n",
    "\n",
    "\n",
    "dirname = '../Dataset_v3/cleaned/Various/AModestProposalByJonathanSwift.csv'\n",
    "Various2 = pd.read_csv(dirname)\n",
    "print(\"Various AModestProposalByJonathanSwift: {0}\".format(Various2.shape))\n",
    "\n",
    "dirname = '../Dataset_v3/cleaned/Various/FrankensteinOrTheModernPrometheusByMaryWollstonecraftShelley.csv'\n",
    "Various3 = pd.read_csv(dirname)\n",
    "print(\"Various FrankensteinOrTheModernPrometheusByMaryWollstonecraftShelley: {0}\".format(Various3.shape))\n",
    "\n",
    "dirname = '../Dataset_v3/cleaned/Various/MetamorphosisByFranzKafka.csv'\n",
    "Various4 = pd.read_csv(dirname)\n",
    "print(\"Various MetamorphosisByFranzKafka: {0}\".format(Various4.shape))\n",
    "\n",
    "dirname = '../Dataset_v3/cleaned/Various/MobyDickOrTheWhalebyHermanMelville.csv'\n",
    "Various5 = pd.read_csv(dirname)\n",
    "print(\"Various MobyDickOrTheWhalebyHermanMelville: {0}\".format(Various5.shape))\n",
    "\n",
    "dirname = '../Dataset_v3/cleaned/Various/TheAdventuresofSherlockHolmesbyArthurConanDoyle.csv'\n",
    "Various6 = pd.read_csv(dirname)\n",
    "print(\"Various TheAdventuresofSherlockHolmesbyArthurConanDoyle: {0}\".format(Various6.shape))\n",
    "\n",
    "dirname = '../Dataset_v3/cleaned/Various/TheImportanceOfBeingEarnestATrivialComedyForSeriousPeopleByOscarWilde.csv'\n",
    "Various7 = pd.read_csv(dirname)\n",
    "print(\"Various TheImportanceOfBeingEarnestATrivialComedyForSeriousPeopleByOscarWilde: {0}\".format(Various7.shape))\n",
    "\n",
    "\n",
    "dirname = '../Dataset_v3/cleaned/Various/TheScarletLetterbyNathanielHawthorne.csv'\n",
    "Various8 = pd.read_csv(dirname)\n",
    "print(\"Various TheScarletLetterbyNathanielHawthorne: {0}\".format(Various8.shape))\n",
    "\n",
    "dirname = '../Dataset_v3/cleaned/Various/TheStrangeCaseofDrJekyllandMrHydebyRobertLouisStevenson.csv'\n",
    "Various9 = pd.read_csv(dirname)\n",
    "print(\"Various TheStrangeCaseofDrJekyllandMrHydebyRobertLouisStevenson: {0}\".format(Various9.shape))\n",
    "\n",
    "dirname = '../Dataset_v3/cleaned/Various/TheYellowWallpaperbyCharlottePerkinsGilman.csv'\n",
    "Various10 = pd.read_csv(dirname)\n",
    "print(\"Various TheYellowWallpaperbyCharlottePerkinsGilman: {0}\".format(Various10.shape))\n",
    "\n"
   ]
  },
  {
   "cell_type": "code",
   "execution_count": 8,
   "metadata": {},
   "outputs": [],
   "source": [
    "charleslist = [charles1, charles2, charles3, charles4, charles5, charles6, charles7,\n",
    "              charles8, charles9, charles10, charles11,charles12,charles13,charles14]\n",
    "marklist = [Mark1, Mark2, Mark3, Mark4, Mark5, Mark6]\n",
    "variouslsit = [Various1, Various2, Various3, Various4, Various5, Various6, Various7, Various8,\n",
    "              Various9, Various10]\n",
    "janelist = [Jane1, Jane2, Jane3, Jane4, Jane5, Jane6]\n",
    "fitzgeraldlist = [Fitzgerald1, Fitzgerald2, Fitzgerald3, Fitzgerald4,Fitzgerald5]"
   ]
  },
  {
   "cell_type": "code",
   "execution_count": 13,
   "metadata": {},
   "outputs": [
    {
     "data": {
      "text/plain": [
       "172591"
      ]
     },
     "execution_count": 13,
     "metadata": {},
     "output_type": "execute_result"
    }
   ],
   "source": [
    "# 172591 Charles Dickens \n",
    "# 26863 Mark Twain\n",
    "# 29414 various \n",
    "# 32379 Jane Austen\n",
    "# 28038 Fitzgerald\n",
    "\n",
    "totcount = 0\n",
    "for df in charleslist:\n",
    "    totcount += df.shape[0]\n",
    "totcount"
   ]
  },
  {
   "cell_type": "markdown",
   "metadata": {},
   "source": [
    "* Mark Twain: Mark + Various\n",
    "* Fitzgerald: Fitzgerald + Various \n",
    "* Charles: Charles + all "
   ]
  },
  {
   "cell_type": "code",
   "execution_count": 14,
   "metadata": {},
   "outputs": [
    {
     "name": "stdout",
     "output_type": "stream",
     "text": [
      "289285\n"
     ]
    },
    {
     "data": {
      "text/plain": [
       "count     289285\n",
       "unique         2\n",
       "top            1\n",
       "freq      172591\n",
       "Name: Label, dtype: object"
      ]
     },
     "execution_count": 14,
     "metadata": {},
     "output_type": "execute_result"
    }
   ],
   "source": [
    "df_charles = pd.concat(charleslist,ignore_index=True)\n",
    "df_charles['Label'] = \"1\"\n",
    "df_charles = df_charles[['Text','Label']]\n",
    "\n",
    "df_others = pd.concat(marklist +variouslsit+ janelist +fitzgeraldlist,ignore_index=True)\n",
    "df_others['Label'] = \"0\"\n",
    "df_others = df_others[['Text','Label']]\n",
    "\n",
    "df_charles_f = pd.concat([df_charles,df_others],ignore_index=True)\n",
    "print(df_charles_f.shape[0])\n",
    "df_charles_f.Label.describe()"
   ]
  },
  {
   "cell_type": "code",
   "execution_count": 29,
   "metadata": {},
   "outputs": [
    {
     "name": "stdout",
     "output_type": "stream",
     "text": [
      "9392\n"
     ]
    },
    {
     "data": {
      "text/plain": [
       "count     9392\n",
       "unique       2\n",
       "top          0\n",
       "freq      5097\n",
       "Name: Label, dtype: object"
      ]
     },
     "execution_count": 29,
     "metadata": {},
     "output_type": "execute_result"
    }
   ],
   "source": [
    "df_mark = pd.concat(marklist,ignore_index=True)\n",
    "df_mark['Label'] = \"1\"\n",
    "df_mark = df_mark[['Text','Label']]\n",
    "\n",
    "df_others = pd.concat(variouslsit,ignore_index=True)\n",
    "df_others['Label'] = \"0\"\n",
    "df_others = df_others[['Text','Label']]\n",
    "\n",
    "df_mark_f = pd.concat([df_mark,df_others],ignore_index=True)\n",
    "print(df_mark_f.shape[0])\n",
    "df_mark_f.Label.describe()"
   ]
  },
  {
   "cell_type": "code",
   "execution_count": 15,
   "metadata": {},
   "outputs": [
    {
     "name": "stdout",
     "output_type": "stream",
     "text": [
      "57452\n"
     ]
    },
    {
     "data": {
      "text/plain": [
       "count     57452\n",
       "unique        2\n",
       "top           0\n",
       "freq      29414\n",
       "Name: Label, dtype: object"
      ]
     },
     "execution_count": 15,
     "metadata": {},
     "output_type": "execute_result"
    }
   ],
   "source": [
    "df_fitzgerald = pd.concat(fitzgeraldlist,ignore_index=True)\n",
    "df_fitzgerald['Label'] = \"1\"\n",
    "df_fitzgerald = df_fitzgerald[['Text','Label']]\n",
    "\n",
    "df_others = pd.concat(variouslsit,ignore_index=True)\n",
    "df_others['Label'] = \"0\"\n",
    "df_others = df_others[['Text','Label']]\n",
    "\n",
    "df_fitzgerald_f = pd.concat([df_fitzgerald,df_others],ignore_index=True)\n",
    "print(df_fitzgerald_f.shape[0])\n",
    "df_fitzgerald_f.Label.describe()"
   ]
  },
  {
   "cell_type": "code",
   "execution_count": 16,
   "metadata": {},
   "outputs": [],
   "source": [
    "# apply on the df['Text']\n",
    "# retain all columns and add addtional columns spacy_words\n",
    "def NER_replace(df):\n",
    "    df['spacy_words'] = df['Text'].apply(lambda x: list(nlp(x).ents))\n",
    "    for index, row in df.iterrows():\n",
    "        thistext = row.Text\n",
    "        for ent in row.spacy_words:\n",
    "            if ent.label_ in ['PERSON','FAC','GPE','LOC','ORG']:\n",
    "                thistext = thistext.replace(ent.text,ent.label_)\n",
    "        df.at[index, 'Text'] = thistext\n",
    "    return df"
   ]
  },
  {
   "cell_type": "code",
   "execution_count": null,
   "metadata": {},
   "outputs": [],
   "source": [
    "df_fitzgerald_f = NER_replace(df_fitzgerald_f)"
   ]
  },
  {
   "cell_type": "code",
   "execution_count": null,
   "metadata": {},
   "outputs": [],
   "source": [
    "#df_mark_f = NER_replace(df_mark_f)\n",
    "df_charles_f = NER_replace(df_charles_f)"
   ]
  },
  {
   "cell_type": "code",
   "execution_count": null,
   "metadata": {},
   "outputs": [],
   "source": [
    "df_fitzgerald_f.Text[3]"
   ]
  },
  {
   "cell_type": "code",
   "execution_count": null,
   "metadata": {},
   "outputs": [],
   "source": [
    "for ent in df_fitzgerald_f.spacy_words[3]:\n",
    "    if ent.label_ in ['PERSON','FAC','GPE','LOC','ORG']:\n",
    "        print(ent.text, ent.start_char, ent.end_char,\n",
    "          ent.label_)"
   ]
  },
  {
   "cell_type": "code",
   "execution_count": 40,
   "metadata": {},
   "outputs": [],
   "source": [
    "df_fitzgerald_f.to_csv(\"../Dataset_v3/deidentified/Fitzgerald_sent_di.csv\")\n"
   ]
  },
  {
   "cell_type": "code",
   "execution_count": 42,
   "metadata": {},
   "outputs": [],
   "source": [
    "df_charles_f.to_csv(\"../Dataset_v3/deidentified/Charles_sent_di.csv\")"
   ]
  },
  {
   "cell_type": "code",
   "execution_count": null,
   "metadata": {},
   "outputs": [],
   "source": [
    "df_mark_f.to_csv(\"../Dataset_v3/deidentified/Mark_sent_di.csv\")"
   ]
  }
 ],
 "metadata": {
  "kernelspec": {
   "display_name": "Python 3",
   "language": "python",
   "name": "python3"
  },
  "language_info": {
   "codemirror_mode": {
    "name": "ipython",
    "version": 3
   },
   "file_extension": ".py",
   "mimetype": "text/x-python",
   "name": "python",
   "nbconvert_exporter": "python",
   "pygments_lexer": "ipython3",
   "version": "3.8.3"
  }
 },
 "nbformat": 4,
 "nbformat_minor": 4
}
