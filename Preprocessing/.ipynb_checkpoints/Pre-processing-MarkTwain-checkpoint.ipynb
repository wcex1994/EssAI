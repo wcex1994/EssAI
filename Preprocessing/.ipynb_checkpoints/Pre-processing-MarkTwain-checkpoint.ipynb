{
 "cells": [
  {
   "cell_type": "markdown",
   "metadata": {},
   "source": [
    "# Pre-processing Texts\n",
    "\n",
    "This notebook is used to cleaned the text and put into chunks based on the model requirements.\n",
    "\n",
    "Current process:\n",
    "* Clean off top and bottom unnecessary words e.g. table of content\n",
    "* Chunk into 450 tokens (for BERT) - can be changed later depends on the model\n",
    "* Put into rows with Author name as csv\n"
   ]
  },
  {
   "cell_type": "code",
   "execution_count": 24,
   "metadata": {},
   "outputs": [
    {
     "name": "stderr",
     "output_type": "stream",
     "text": [
      "[nltk_data] Downloading package punkt to\n",
      "[nltk_data]     C:\\Users\\sye\\AppData\\Roaming\\nltk_data...\n",
      "[nltk_data]   Package punkt is already up-to-date!\n"
     ]
    },
    {
     "data": {
      "text/plain": [
       "True"
      ]
     },
     "execution_count": 24,
     "metadata": {},
     "output_type": "execute_result"
    }
   ],
   "source": [
    "import nltk\n",
    "import numpy as np\n",
    "import random\n",
    "import pandas as pd\n",
    "import re\n",
    "from collections import OrderedDict, defaultdict\n",
    "nltk.download('punkt')\n"
   ]
  },
  {
   "cell_type": "code",
   "execution_count": 25,
   "metadata": {},
   "outputs": [],
   "source": [
    "tokenizer = nltk.data.load('tokenizers/punkt/english.pickle')"
   ]
  },
  {
   "cell_type": "markdown",
   "metadata": {},
   "source": [
    "## Support Functions"
   ]
  },
  {
   "cell_type": "code",
   "execution_count": 78,
   "metadata": {},
   "outputs": [],
   "source": [
    "def split_by_chapter(text):\n",
    "    thisdict = defaultdict()\n",
    "    # ALERT - manual check if there is 3 digit chapters\n",
    "    # split by chapter with one or two digits number with newline\n",
    "    split_text = re.split(\"CHAPTER \\w+|CONCLUSION\", text)\n",
    "    i = 0\n",
    "    for s in split_text:\n",
    "        if i > 0:\n",
    "            Chapter = \"chapter_\" + str(i)\n",
    "            thisdict[Chapter] = s\n",
    "        i+=1\n",
    "    return thisdict"
   ]
  },
  {
   "cell_type": "markdown",
   "metadata": {},
   "source": [
    "## Read Data"
   ]
  },
  {
   "cell_type": "code",
   "execution_count": 119,
   "metadata": {},
   "outputs": [],
   "source": [
    "# ALERT - manual check your file location\n",
    "f = open(\"Dataset/Original_Book/Mark_Twain/ThePrinceAndThePauper.txt\", \"r\", encoding=\"utf8\")"
   ]
  },
  {
   "cell_type": "code",
   "execution_count": 120,
   "metadata": {},
   "outputs": [],
   "source": [
    "book = f.read().replace('\\n', ' ').replace('_', '')"
   ]
  },
  {
   "cell_type": "code",
   "execution_count": 121,
   "metadata": {},
   "outputs": [
    {
     "data": {
      "text/plain": [
       "'. The birth of the Prince and the Pauper.  In the ancient city of London, on a certain autumn day in the second quarter of the sixteenth century, a boy was born to a poor family of the name of Canty, who did not want him.  On the same day another English child was born to a rich family of the name of Tudor, who did want him. All England wanted him too.  England had so longed for him, and hoped for him, and prayed God for him, that, now that he was really come, the people went nearly mad for joy.  Mere acquaintances hugged and kissed each other and cried. Everybody took a holiday, and high and low, rich and poor, feasted and danced and sang, and got very mellow; and they kept this up for days and nights together.  By day, London was a sight to see, with gay banners waving from every balcony and housetop, and splendid pageants marching along.  By night, it was again a sight to see, with its great bonfires at every corner, and its troops of revellers making merry around them.  There was no talk in all England but of the new baby, Edward Tudor, Prince of Wales, who lay lapped in silks and satins, unconscious of all this fuss, and not knowing that great lords and ladies were tending him and watching over him--and not caring, either.  But there was no talk about the other baby, Tom Canty, lapped in his poor rags, except among the family of paupers whom he had just come to trouble with his presence.     '"
      ]
     },
     "execution_count": 121,
     "metadata": {},
     "output_type": "execute_result"
    }
   ],
   "source": [
    "###SCRATCH\n",
    "split_text = re.split(\"CHAPTER \\w+|CONCLUSION\", book)\n",
    "len(split_text)\n",
    "split_text[1]"
   ]
  },
  {
   "cell_type": "markdown",
   "metadata": {},
   "source": [
    "### Clean words, space, newline"
   ]
  },
  {
   "cell_type": "code",
   "execution_count": 122,
   "metadata": {},
   "outputs": [],
   "source": [
    "book = re.sub('([.,!?()\"\"])', r' \\1 ', book)"
   ]
  },
  {
   "cell_type": "code",
   "execution_count": 123,
   "metadata": {},
   "outputs": [],
   "source": [
    "book_dict = split_by_chapter(book)"
   ]
  },
  {
   "cell_type": "code",
   "execution_count": 124,
   "metadata": {},
   "outputs": [],
   "source": [
    "for key,item in book_dict.items():\n",
    "    ## remove newline and space at beginning and end\n",
    "    book_dict[key] = re.sub(' +', ' ', item)  "
   ]
  },
  {
   "cell_type": "code",
   "execution_count": 125,
   "metadata": {},
   "outputs": [
    {
     "data": {
      "text/plain": [
       "dict_keys(['chapter_1', 'chapter_2', 'chapter_3', 'chapter_4', 'chapter_5', 'chapter_6', 'chapter_7', 'chapter_8', 'chapter_9', 'chapter_10', 'chapter_11', 'chapter_12', 'chapter_13', 'chapter_14', 'chapter_15', 'chapter_16', 'chapter_17', 'chapter_18', 'chapter_19', 'chapter_20', 'chapter_21', 'chapter_22', 'chapter_23', 'chapter_24', 'chapter_25', 'chapter_26', 'chapter_27', 'chapter_28', 'chapter_29', 'chapter_30', 'chapter_31', 'chapter_32', 'chapter_33'])"
      ]
     },
     "execution_count": 125,
     "metadata": {},
     "output_type": "execute_result"
    }
   ],
   "source": [
    "book_dict.keys()"
   ]
  },
  {
   "cell_type": "code",
   "execution_count": 126,
   "metadata": {},
   "outputs": [
    {
     "data": {
      "text/plain": [
       "' . The birth of the Prince and the Pauper . In the ancient city of London , on a certain autumn day in the second quarter of the sixteenth century , a boy was born to a poor family of the name of Canty , who did not want him . On the same day another English child was born to a rich family of the name of Tudor , who did want him . All England wanted him too . England had so longed for him , and hoped for him , and prayed God for him , that , now that he was really come , the people went nearly mad for joy . Mere acquaintances hugged and kissed each other and cried . Everybody took a holiday , and high and low , rich and poor , feasted and danced and sang , and got very mellow; and they kept this up for days and nights together . By day , London was a sight to see , with gay banners waving from every balcony and housetop , and splendid pageants marching along . By night , it was again a sight to see , with its great bonfires at every corner , and its troops of revellers making merry around them . There was no talk in all England but of the new baby , Edward Tudor , Prince of Wales , who lay lapped in silks and satins , unconscious of all this fuss , and not knowing that great lords and ladies were tending him and watching over him--and not caring , either . But there was no talk about the other baby , Tom Canty , lapped in his poor rags , except among the family of paupers whom he had just come to trouble with his presence . '"
      ]
     },
     "execution_count": 126,
     "metadata": {},
     "output_type": "execute_result"
    }
   ],
   "source": [
    "# ALERT - manual check quickly to scan through\n",
    "book_dict['chapter_1']"
   ]
  },
  {
   "cell_type": "markdown",
   "metadata": {},
   "source": [
    "### Chunk data into 128 tokens each\n",
    "\n",
    "BERT can hadle up to 512."
   ]
  },
  {
   "cell_type": "code",
   "execution_count": 127,
   "metadata": {},
   "outputs": [
    {
     "name": "stdout",
     "output_type": "stream",
     "text": [
      "chapter_1 306\n",
      "chapter_2 1815\n",
      "chapter_3 2579\n",
      "chapter_4 1424\n",
      "chapter_5 2763\n",
      "chapter_6 2924\n",
      "chapter_7 1356\n",
      "chapter_8 983\n",
      "chapter_9 1006\n",
      "chapter_10 3346\n",
      "chapter_11 1786\n",
      "chapter_12 4455\n",
      "chapter_13 1652\n",
      "chapter_14 4327\n",
      "chapter_15 4071\n",
      "chapter_16 1063\n",
      "chapter_17 3994\n",
      "chapter_18 3199\n",
      "chapter_19 2196\n",
      "chapter_20 2540\n",
      "chapter_21 1687\n",
      "chapter_22 2176\n",
      "chapter_23 1281\n",
      "chapter_24 1092\n",
      "chapter_25 2734\n",
      "chapter_26 1605\n",
      "chapter_27 3780\n",
      "chapter_28 1408\n",
      "chapter_29 791\n",
      "chapter_30 956\n",
      "chapter_31 2339\n",
      "chapter_32 4531\n",
      "chapter_33 3928\n"
     ]
    }
   ],
   "source": [
    "# ALERT - I change to 128 tokens, feel free to change your chunk size\n",
    "# First check the chapter length\n",
    "for key,item in book_dict.items():\n",
    "    if len(item.split()) > 128:\n",
    "        print(key, len(item.split()))"
   ]
  },
  {
   "cell_type": "code",
   "execution_count": 128,
   "metadata": {},
   "outputs": [],
   "source": [
    "\n",
    "# create two empty lists for df \n",
    "chapterindex = []\n",
    "text = []\n",
    "\n",
    "for key,item in book_dict.items():\n",
    "    # wordcount starts from 0\n",
    "    wordcount = 0 \n",
    "    # keep adding sentences until 128 tokens\n",
    "    chapter_chunk_text = \"\"\n",
    "    # sentences in each chapter\n",
    "    sentences = tokenizer.tokenize(item)\n",
    "    # loop through each sentence \n",
    "    for sent in sentences:\n",
    "        # check the word count per sentence\n",
    "        wv = len(sent.split())\n",
    "        # if adding this sentence makes it over 128 tokens \n",
    "        # ALERT - I change to 128 tokens, feel free to change your chunk size\n",
    "        if wordcount + wv >= 128:\n",
    "            # push row and clean cache\n",
    "            chapterindex.append(key)\n",
    "            text.append(chapter_chunk_text)\n",
    "            wordcount = 0\n",
    "            chapter_chunk_text = sent\n",
    "        # if not exceed, append the text and add wordcount\n",
    "        chapter_chunk_text += ' ' + sent\n",
    "        wordcount += wv\n",
    "    # once a chapter finished, push all rest text \n",
    "    chapterindex.append(key)\n",
    "    text.append(chapter_chunk_text)\n",
    "        "
   ]
  },
  {
   "cell_type": "code",
   "execution_count": 129,
   "metadata": {},
   "outputs": [],
   "source": [
    "# create dataframe \n",
    "book_df = pd.DataFrame(\n",
    "    {'chapter': chapterindex,\n",
    "     'text': text\n",
    "    })"
   ]
  },
  {
   "cell_type": "code",
   "execution_count": 130,
   "metadata": {},
   "outputs": [],
   "source": [
    "# create total words count per row\n",
    "book_df['totalwords'] = book_df['text'].str.split().str.len()"
   ]
  },
  {
   "cell_type": "code",
   "execution_count": 131,
   "metadata": {},
   "outputs": [
    {
     "data": {
      "text/plain": [
       "'  . The birth of the Prince and the Pauper . In the ancient city of London , on a certain autumn day in the second quarter of the sixteenth century , a boy was born to a poor family of the name of Canty , who did not want him . On the same day another English child was born to a rich family of the name of Tudor , who did want him . All England wanted him too . England had so longed for him , and hoped for him , and prayed God for him , that , now that he was really come , the people went nearly mad for joy . Mere acquaintances hugged and kissed each other and cried .'"
      ]
     },
     "execution_count": 131,
     "metadata": {},
     "output_type": "execute_result"
    }
   ],
   "source": [
    "book_df.iloc[0]['text']"
   ]
  },
  {
   "cell_type": "code",
   "execution_count": 132,
   "metadata": {},
   "outputs": [
    {
     "data": {
      "text/plain": [
       "(708, 3)"
      ]
     },
     "execution_count": 132,
     "metadata": {},
     "output_type": "execute_result"
    }
   ],
   "source": [
    "book_df.shape"
   ]
  },
  {
   "cell_type": "code",
   "execution_count": 133,
   "metadata": {},
   "outputs": [
    {
     "data": {
      "text/plain": [
       "102250"
      ]
     },
     "execution_count": 133,
     "metadata": {},
     "output_type": "execute_result"
    }
   ],
   "source": [
    "book_df['totalwords'].sum()"
   ]
  },
  {
   "cell_type": "code",
   "execution_count": 134,
   "metadata": {},
   "outputs": [
    {
     "data": {
      "text/html": [
       "<div>\n",
       "<style scoped>\n",
       "    .dataframe tbody tr th:only-of-type {\n",
       "        vertical-align: middle;\n",
       "    }\n",
       "\n",
       "    .dataframe tbody tr th {\n",
       "        vertical-align: top;\n",
       "    }\n",
       "\n",
       "    .dataframe thead th {\n",
       "        text-align: right;\n",
       "    }\n",
       "</style>\n",
       "<table border=\"1\" class=\"dataframe\">\n",
       "  <thead>\n",
       "    <tr style=\"text-align: right;\">\n",
       "      <th></th>\n",
       "      <th>totalwords</th>\n",
       "    </tr>\n",
       "  </thead>\n",
       "  <tbody>\n",
       "    <tr>\n",
       "      <th>count</th>\n",
       "      <td>708.000000</td>\n",
       "    </tr>\n",
       "    <tr>\n",
       "      <th>mean</th>\n",
       "      <td>144.420904</td>\n",
       "    </tr>\n",
       "    <tr>\n",
       "      <th>std</th>\n",
       "      <td>35.148394</td>\n",
       "    </tr>\n",
       "    <tr>\n",
       "      <th>min</th>\n",
       "      <td>38.000000</td>\n",
       "    </tr>\n",
       "    <tr>\n",
       "      <th>25%</th>\n",
       "      <td>126.000000</td>\n",
       "    </tr>\n",
       "    <tr>\n",
       "      <th>50%</th>\n",
       "      <td>141.000000</td>\n",
       "    </tr>\n",
       "    <tr>\n",
       "      <th>75%</th>\n",
       "      <td>160.000000</td>\n",
       "    </tr>\n",
       "    <tr>\n",
       "      <th>max</th>\n",
       "      <td>398.000000</td>\n",
       "    </tr>\n",
       "  </tbody>\n",
       "</table>\n",
       "</div>"
      ],
      "text/plain": [
       "       totalwords\n",
       "count  708.000000\n",
       "mean   144.420904\n",
       "std     35.148394\n",
       "min     38.000000\n",
       "25%    126.000000\n",
       "50%    141.000000\n",
       "75%    160.000000\n",
       "max    398.000000"
      ]
     },
     "execution_count": 134,
     "metadata": {},
     "output_type": "execute_result"
    }
   ],
   "source": [
    "# ALERT - depending on how well tokenizer.tokenize(item) \n",
    "# split the sentence, some sentences can be VERY long because the \n",
    "# function fails to identify the sentence end, which makes it possible\n",
    "# to be over 300 token limit \n",
    "book_df.describe()"
   ]
  },
  {
   "cell_type": "code",
   "execution_count": 135,
   "metadata": {},
   "outputs": [],
   "source": [
    "book_df['author'] = 'MarkTwain'"
   ]
  },
  {
   "cell_type": "markdown",
   "metadata": {},
   "source": [
    "### Save as csv with author name"
   ]
  },
  {
   "cell_type": "code",
   "execution_count": 136,
   "metadata": {},
   "outputs": [],
   "source": [
    "Author = \"MarkTwain\"\n",
    "Book = \"TheAdventuresOfTomSawyer\"\n",
    "Book = \"ThePrinceAndThePauper\"\n",
    "book_df.to_csv(Author+\"_\"+Book+\".csv\")"
   ]
  },
  {
   "cell_type": "code",
   "execution_count": 137,
   "metadata": {},
   "outputs": [],
   "source": [
    "f.close()"
   ]
  },
  {
   "cell_type": "code",
   "execution_count": null,
   "metadata": {},
   "outputs": [],
   "source": []
  }
 ],
 "metadata": {
  "kernelspec": {
   "display_name": "Python 3",
   "language": "python",
   "name": "python3"
  },
  "language_info": {
   "codemirror_mode": {
    "name": "ipython",
    "version": 3
   },
   "file_extension": ".py",
   "mimetype": "text/x-python",
   "name": "python",
   "nbconvert_exporter": "python",
   "pygments_lexer": "ipython3",
   "version": "3.8.3"
  }
 },
 "nbformat": 4,
 "nbformat_minor": 4
}
